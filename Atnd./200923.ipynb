{
 "metadata": {
  "language_info": {
   "codemirror_mode": {
    "name": "ipython",
    "version": 3
   },
   "file_extension": ".py",
   "mimetype": "text/x-python",
   "name": "python",
   "nbconvert_exporter": "python",
   "pygments_lexer": "ipython3",
   "version": "3.8.5-final"
  },
  "orig_nbformat": 2,
  "kernelspec": {
   "name": "python_defaultSpec_1600822064792",
   "display_name": "Python 3.8.5 64-bit ('langcomp': conda)"
  }
 },
 "nbformat": 4,
 "nbformat_minor": 2,
 "cells": [
  {
   "cell_type": "code",
   "execution_count": 2,
   "metadata": {
    "tags": []
   },
   "outputs": [
    {
     "output_type": "execute_result",
     "data": {
      "text/plain": "True"
     },
     "metadata": {},
     "execution_count": 2
    }
   ],
   "source": [
    "any(x < 10 for x in range(1, 11))"
   ]
  },
  {
   "cell_type": "code",
   "execution_count": 3,
   "metadata": {
    "tags": []
   },
   "outputs": [
    {
     "output_type": "execute_result",
     "data": {
      "text/plain": "'배고파'"
     },
     "metadata": {},
     "execution_count": 3
    }
   ],
   "source": [
    "word = \"배고파(...)\"\n",
    "\"\".join(char for char in word if char.isalnum())"
   ]
  },
  {
   "cell_type": "code",
   "execution_count": 7,
   "metadata": {
    "tags": []
   },
   "outputs": [
    {
     "output_type": "execute_result",
     "data": {
      "text/plain": "0.06950703000006797"
     },
     "metadata": {},
     "execution_count": 7
    }
   ],
   "source": [
    "from timeit import timeit\n",
    "timeit(\"'ab'.lower()\")"
   ]
  },
  {
   "cell_type": "code",
   "execution_count": 8,
   "metadata": {
    "tags": []
   },
   "outputs": [
    {
     "output_type": "execute_result",
     "data": {
      "text/plain": "0.1712744769999972"
     },
     "metadata": {},
     "execution_count": 8
    }
   ],
   "source": [
    "timeit(\"for char in 'ab':\\n    char.lower()\")"
   ]
  },
  {
   "cell_type": "code",
   "execution_count": 9,
   "metadata": {
    "tags": []
   },
   "outputs": [
    {
     "output_type": "execute_result",
     "data": {
      "text/plain": "0.1494057879999673"
     },
     "metadata": {},
     "execution_count": 9
    }
   ],
   "source": [
    "timeit(\"'a'.lower(); 'b'.lower()\")"
   ]
  },
  {
   "cell_type": "code",
   "execution_count": 10,
   "metadata": {},
   "outputs": [],
   "source": [
    "def get_sqare_area(size):\n",
    "    \"\"\"Calculate the area of a sqare from the given size\n",
    "    \n",
    "    @param size (numtype): the length of a side of a sqare\n",
    "    \n",
    "    @return the calculated area of the sqare\"\"\"\n",
    "    return size ** 2"
   ]
  },
  {
   "cell_type": "code",
   "execution_count": 11,
   "metadata": {
    "tags": []
   },
   "outputs": [
    {
     "output_type": "stream",
     "name": "stdout",
     "text": "Help on function get_sqare_area in module __main__:\n\nget_sqare_area(size)\n    Calculate the area of a sqare from the given size\n    \n    @param size (numtype): the length of a side of a sqare\n    \n    @return the calculated area of the sqare\n\n"
    }
   ],
   "source": [
    "help(get_sqare_area)"
   ]
  },
  {
   "cell_type": "code",
   "execution_count": 12,
   "metadata": {},
   "outputs": [],
   "source": [
    "from unicodedata import name"
   ]
  },
  {
   "cell_type": "code",
   "execution_count": 13,
   "metadata": {},
   "outputs": [
    {
     "output_type": "execute_result",
     "data": {
      "text/plain": "'HANGUL SYLLABLE GA'"
     },
     "metadata": {},
     "execution_count": 13
    }
   ],
   "source": [
    "name('가')"
   ]
  },
  {
   "cell_type": "code",
   "execution_count": null,
   "metadata": {},
   "outputs": [],
   "source": [
    "name('')"
   ]
  }
 ]
}