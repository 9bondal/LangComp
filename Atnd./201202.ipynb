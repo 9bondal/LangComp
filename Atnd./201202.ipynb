{
 "metadata": {
  "language_info": {
   "codemirror_mode": {
    "name": "ipython",
    "version": 3
   },
   "file_extension": ".py",
   "mimetype": "text/x-python",
   "name": "python",
   "nbconvert_exporter": "python",
   "pygments_lexer": "ipython3",
   "version": "3.8.6-final"
  },
  "orig_nbformat": 2,
  "kernelspec": {
   "name": "python3",
   "display_name": "Python 3"
  }
 },
 "nbformat": 4,
 "nbformat_minor": 2,
 "cells": [
  {
   "cell_type": "code",
   "execution_count": 3,
   "metadata": {},
   "outputs": [
    {
     "output_type": "stream",
     "name": "stderr",
     "text": [
      "[nltk_data] Downloading package punkt to /Users/jnooree/nltk_data...\n[nltk_data]   Package punkt is already up-to-date!\n"
     ]
    }
   ],
   "source": [
    "import nltk\n",
    "nltk.download(\"punkt\")\n",
    "from gensim.models import Word2Vec, FastText"
   ]
  },
  {
   "cell_type": "code",
   "execution_count": 4,
   "metadata": {},
   "outputs": [],
   "source": [
    "corpus_file = \"news.txt\"\n",
    "with open(corpus_file) as f:\n",
    "    corpus = [nltk.word_tokenize(line) for line in f]"
   ]
  },
  {
   "cell_type": "code",
   "execution_count": 5,
   "metadata": {},
   "outputs": [
    {
     "output_type": "execute_result",
     "data": {
      "text/plain": [
       "[[\"'탈모\", \"'\", '치료하고', \"'여심\", \"'\", '잡는', '방법', '?'],\n",
       " [],\n",
       " ['시끌벅적한', '연말', '분위기가', '수그러들자', '신묘년', '새해가', '밝았다', '.']]"
      ]
     },
     "metadata": {},
     "execution_count": 5
    }
   ],
   "source": [
    "corpus[:3]"
   ]
  },
  {
   "cell_type": "code",
   "execution_count": 6,
   "metadata": {},
   "outputs": [],
   "source": [
    "wv_win2 = Word2Vec(sg=1, window=2)"
   ]
  },
  {
   "cell_type": "code",
   "execution_count": 7,
   "metadata": {},
   "outputs": [
    {
     "output_type": "execute_result",
     "data": {
      "text/plain": [
       "(41506820, 52590300)"
      ]
     },
     "metadata": {},
     "execution_count": 7
    }
   ],
   "source": [
    "wv_win2.build_vocab(corpus)\n",
    "wv_win2.train(corpus, total_examples=wv_win2.corpus_count, epochs=wv_win2.epochs)"
   ]
  },
  {
   "cell_type": "code",
   "execution_count": 8,
   "metadata": {},
   "outputs": [
    {
     "output_type": "execute_result",
     "data": {
      "text/plain": [
       "[('여성탈모', 0.8192265033721924),\n",
       " ('탈모의', 0.8150723576545715),\n",
       " ('비만', 0.7978000640869141),\n",
       " ('질염', 0.7891401052474976),\n",
       " ('탈모는', 0.7875183820724487),\n",
       " ('남성형', 0.7760628461837769),\n",
       " ('갱년기', 0.7690579891204834),\n",
       " ('변비', 0.7690173983573914),\n",
       " ('전립선', 0.7671183347702026),\n",
       " ('치매', 0.7668051719665527)]"
      ]
     },
     "metadata": {},
     "execution_count": 8
    }
   ],
   "source": [
    "wv_win2.wv.most_similar('탈모')"
   ]
  },
  {
   "cell_type": "code",
   "execution_count": 9,
   "metadata": {},
   "outputs": [],
   "source": [
    "wv_win5 = Word2Vec(sentences=corpus, sg=1, window=5)"
   ]
  },
  {
   "cell_type": "code",
   "execution_count": 10,
   "metadata": {},
   "outputs": [
    {
     "output_type": "execute_result",
     "data": {
      "text/plain": [
       "[('도시인', 0.7480379939079285),\n",
       " ('베이징', 0.7399730086326599),\n",
       " ('메카인', 0.7339820861816406),\n",
       " ('상하이', 0.7291325926780701),\n",
       " ('동대문', 0.7275378704071045),\n",
       " ('피겨스케이팅', 0.7263103127479553),\n",
       " ('스케이팅', 0.722897469997406),\n",
       " ('명문', 0.7212512493133545),\n",
       " ('칸', 0.7182360291481018),\n",
       " ('베를린', 0.716895580291748)]"
      ]
     },
     "metadata": {},
     "execution_count": 10
    }
   ],
   "source": [
    "wv_win2.wv.most_similar(positive=['한국', '도쿄'], negative=['일본'])"
   ]
  },
  {
   "cell_type": "code",
   "execution_count": 11,
   "metadata": {},
   "outputs": [],
   "source": [
    "ft = FastText(sentences=corpus, sg=1)"
   ]
  },
  {
   "cell_type": "code",
   "execution_count": 13,
   "metadata": {},
   "outputs": [
    {
     "output_type": "execute_result",
     "data": {
      "text/plain": [
       "[('탈모란', 0.9131588935852051),\n",
       " ('탈모나', 0.9024038314819336),\n",
       " ('탈모도', 0.8924594521522522),\n",
       " ('탈모의', 0.8808624148368835),\n",
       " ('탈모와', 0.8746344447135925),\n",
       " ('탈모예방', 0.860072135925293),\n",
       " ('탈모로', 0.8532431125640869),\n",
       " ('탈모가', 0.8512105941772461),\n",
       " ('탈모를', 0.8420150279998779),\n",
       " ('탈모증의', 0.8406862020492554)]"
      ]
     },
     "metadata": {},
     "execution_count": 13
    }
   ],
   "source": [
    "ft.wv.most_similar('탈모')"
   ]
  },
  {
   "cell_type": "code",
   "execution_count": 12,
   "metadata": {},
   "outputs": [
    {
     "output_type": "execute_result",
     "data": {
      "text/plain": [
       "[('한국의', 0.8112791776657104),\n",
       " ('한국뿐', 0.7942297458648682),\n",
       " ('한국팀', 0.7841842770576477),\n",
       " ('한국영', 0.7799909114837646),\n",
       " ('한국화', 0.7776421308517456),\n",
       " ('한국식', 0.7765466570854187),\n",
       " ('한국선급', 0.7739657163619995),\n",
       " ('아시아', 0.7720630168914795),\n",
       " ('중국', 0.7720608711242676),\n",
       " ('한국서', 0.7699242830276489)]"
      ]
     },
     "metadata": {},
     "execution_count": 12
    }
   ],
   "source": [
    "ft.wv.most_similar('한국')"
   ]
  },
  {
   "cell_type": "code",
   "execution_count": 14,
   "metadata": {},
   "outputs": [
    {
     "output_type": "execute_result",
     "data": {
      "text/plain": [
       "0.7787038"
      ]
     },
     "metadata": {},
     "execution_count": 14
    }
   ],
   "source": [
    "wv_win2.wv.similarity('호랑이', '고양이')"
   ]
  },
  {
   "cell_type": "code",
   "execution_count": 15,
   "metadata": {},
   "outputs": [
    {
     "output_type": "execute_result",
     "data": {
      "text/plain": [
       "0.3970073"
      ]
     },
     "metadata": {},
     "execution_count": 15
    }
   ],
   "source": [
    "wv_win2.wv.similarity('왕', '배추')"
   ]
  },
  {
   "cell_type": "code",
   "execution_count": 16,
   "metadata": {},
   "outputs": [],
   "source": [
    "import pandas as pd"
   ]
  },
  {
   "cell_type": "code",
   "execution_count": 17,
   "metadata": {},
   "outputs": [
    {
     "output_type": "execute_result",
     "data": {
      "text/plain": [
       "    word 1 word 2  kor_score\n",
       "0       사랑     섹스       6.42\n",
       "1      호랑이    고양이       7.17\n",
       "2      호랑이    호랑이      10.00\n",
       "3        책     종이       6.17\n",
       "4      컴퓨터    키보드       6.67\n",
       "..     ...    ...        ...\n",
       "348    소나기     홍수       6.25\n",
       "349     날씨     예보       6.42\n",
       "350     재난     지역       5.25\n",
       "351    도지사    사무실       2.92\n",
       "352     건축     세기       1.75\n",
       "\n",
       "[353 rows x 3 columns]"
      ],
      "text/html": "<div>\n<style scoped>\n    .dataframe tbody tr th:only-of-type {\n        vertical-align: middle;\n    }\n\n    .dataframe tbody tr th {\n        vertical-align: top;\n    }\n\n    .dataframe thead th {\n        text-align: right;\n    }\n</style>\n<table border=\"1\" class=\"dataframe\">\n  <thead>\n    <tr style=\"text-align: right;\">\n      <th></th>\n      <th>word 1</th>\n      <th>word 2</th>\n      <th>kor_score</th>\n    </tr>\n  </thead>\n  <tbody>\n    <tr>\n      <th>0</th>\n      <td>사랑</td>\n      <td>섹스</td>\n      <td>6.42</td>\n    </tr>\n    <tr>\n      <th>1</th>\n      <td>호랑이</td>\n      <td>고양이</td>\n      <td>7.17</td>\n    </tr>\n    <tr>\n      <th>2</th>\n      <td>호랑이</td>\n      <td>호랑이</td>\n      <td>10.00</td>\n    </tr>\n    <tr>\n      <th>3</th>\n      <td>책</td>\n      <td>종이</td>\n      <td>6.17</td>\n    </tr>\n    <tr>\n      <th>4</th>\n      <td>컴퓨터</td>\n      <td>키보드</td>\n      <td>6.67</td>\n    </tr>\n    <tr>\n      <th>...</th>\n      <td>...</td>\n      <td>...</td>\n      <td>...</td>\n    </tr>\n    <tr>\n      <th>348</th>\n      <td>소나기</td>\n      <td>홍수</td>\n      <td>6.25</td>\n    </tr>\n    <tr>\n      <th>349</th>\n      <td>날씨</td>\n      <td>예보</td>\n      <td>6.42</td>\n    </tr>\n    <tr>\n      <th>350</th>\n      <td>재난</td>\n      <td>지역</td>\n      <td>5.25</td>\n    </tr>\n    <tr>\n      <th>351</th>\n      <td>도지사</td>\n      <td>사무실</td>\n      <td>2.92</td>\n    </tr>\n    <tr>\n      <th>352</th>\n      <td>건축</td>\n      <td>세기</td>\n      <td>1.75</td>\n    </tr>\n  </tbody>\n</table>\n<p>353 rows × 3 columns</p>\n</div>"
     },
     "metadata": {},
     "execution_count": 17
    }
   ],
   "source": [
    "data = pd.read_csv(\"WS353_korean.csv\")\n",
    "data"
   ]
  },
  {
   "cell_type": "code",
   "execution_count": 18,
   "metadata": {},
   "outputs": [],
   "source": [
    "def get_sim(model, words):\n",
    "    try:\n",
    "        return model.wv.similarity(words[0], words[1])\n",
    "    except KeyError:\n",
    "        return"
   ]
  },
  {
   "cell_type": "code",
   "execution_count": 19,
   "metadata": {},
   "outputs": [
    {
     "output_type": "execute_result",
     "data": {
      "text/plain": [
       "0.7627694"
      ]
     },
     "metadata": {},
     "execution_count": 19
    }
   ],
   "source": [
    "get_sim(ft, ['호랑이', '고양이'])"
   ]
  },
  {
   "cell_type": "code",
   "execution_count": 23,
   "metadata": {},
   "outputs": [],
   "source": [
    "data['wv_win2'] = data.loc[:, 'word 1':'word 2'].apply(lambda words: get_sim(wv_win2, words), axis=1)"
   ]
  },
  {
   "cell_type": "code",
   "execution_count": 24,
   "metadata": {},
   "outputs": [
    {
     "output_type": "execute_result",
     "data": {
      "text/plain": [
       "    word 1 word 2  kor_score   wv_win2\n",
       "0       사랑     섹스       6.42  0.434523\n",
       "1      호랑이    고양이       7.17  0.778704\n",
       "2      호랑이    호랑이      10.00  1.000000\n",
       "3        책     종이       6.17  0.556271\n",
       "4      컴퓨터    키보드       6.67  0.698369\n",
       "..     ...    ...        ...       ...\n",
       "348    소나기     홍수       6.25  0.471163\n",
       "349     날씨     예보       6.42  0.512973\n",
       "350     재난     지역       5.25  0.454408\n",
       "351    도지사    사무실       2.92  0.401895\n",
       "352     건축     세기       1.75  0.558667\n",
       "\n",
       "[353 rows x 4 columns]"
      ],
      "text/html": "<div>\n<style scoped>\n    .dataframe tbody tr th:only-of-type {\n        vertical-align: middle;\n    }\n\n    .dataframe tbody tr th {\n        vertical-align: top;\n    }\n\n    .dataframe thead th {\n        text-align: right;\n    }\n</style>\n<table border=\"1\" class=\"dataframe\">\n  <thead>\n    <tr style=\"text-align: right;\">\n      <th></th>\n      <th>word 1</th>\n      <th>word 2</th>\n      <th>kor_score</th>\n      <th>wv_win2</th>\n    </tr>\n  </thead>\n  <tbody>\n    <tr>\n      <th>0</th>\n      <td>사랑</td>\n      <td>섹스</td>\n      <td>6.42</td>\n      <td>0.434523</td>\n    </tr>\n    <tr>\n      <th>1</th>\n      <td>호랑이</td>\n      <td>고양이</td>\n      <td>7.17</td>\n      <td>0.778704</td>\n    </tr>\n    <tr>\n      <th>2</th>\n      <td>호랑이</td>\n      <td>호랑이</td>\n      <td>10.00</td>\n      <td>1.000000</td>\n    </tr>\n    <tr>\n      <th>3</th>\n      <td>책</td>\n      <td>종이</td>\n      <td>6.17</td>\n      <td>0.556271</td>\n    </tr>\n    <tr>\n      <th>4</th>\n      <td>컴퓨터</td>\n      <td>키보드</td>\n      <td>6.67</td>\n      <td>0.698369</td>\n    </tr>\n    <tr>\n      <th>...</th>\n      <td>...</td>\n      <td>...</td>\n      <td>...</td>\n      <td>...</td>\n    </tr>\n    <tr>\n      <th>348</th>\n      <td>소나기</td>\n      <td>홍수</td>\n      <td>6.25</td>\n      <td>0.471163</td>\n    </tr>\n    <tr>\n      <th>349</th>\n      <td>날씨</td>\n      <td>예보</td>\n      <td>6.42</td>\n      <td>0.512973</td>\n    </tr>\n    <tr>\n      <th>350</th>\n      <td>재난</td>\n      <td>지역</td>\n      <td>5.25</td>\n      <td>0.454408</td>\n    </tr>\n    <tr>\n      <th>351</th>\n      <td>도지사</td>\n      <td>사무실</td>\n      <td>2.92</td>\n      <td>0.401895</td>\n    </tr>\n    <tr>\n      <th>352</th>\n      <td>건축</td>\n      <td>세기</td>\n      <td>1.75</td>\n      <td>0.558667</td>\n    </tr>\n  </tbody>\n</table>\n<p>353 rows × 4 columns</p>\n</div>"
     },
     "metadata": {},
     "execution_count": 24
    }
   ],
   "source": [
    "data"
   ]
  },
  {
   "cell_type": "code",
   "execution_count": 25,
   "metadata": {},
   "outputs": [
    {
     "output_type": "execute_result",
     "data": {
      "text/plain": [
       "           kor_score   wv_win2\n",
       "kor_score   1.000000  0.315857\n",
       "wv_win2     0.315857  1.000000"
      ],
      "text/html": "<div>\n<style scoped>\n    .dataframe tbody tr th:only-of-type {\n        vertical-align: middle;\n    }\n\n    .dataframe tbody tr th {\n        vertical-align: top;\n    }\n\n    .dataframe thead th {\n        text-align: right;\n    }\n</style>\n<table border=\"1\" class=\"dataframe\">\n  <thead>\n    <tr style=\"text-align: right;\">\n      <th></th>\n      <th>kor_score</th>\n      <th>wv_win2</th>\n    </tr>\n  </thead>\n  <tbody>\n    <tr>\n      <th>kor_score</th>\n      <td>1.000000</td>\n      <td>0.315857</td>\n    </tr>\n    <tr>\n      <th>wv_win2</th>\n      <td>0.315857</td>\n      <td>1.000000</td>\n    </tr>\n  </tbody>\n</table>\n</div>"
     },
     "metadata": {},
     "execution_count": 25
    }
   ],
   "source": [
    "data.loc[:, 'kor_score':'wv_win2'].corr()"
   ]
  },
  {
   "cell_type": "code",
   "execution_count": 26,
   "metadata": {},
   "outputs": [],
   "source": [
    "data['wv_win5'] = data.loc[:, 'word 1':'word 2'].apply(lambda words: get_sim(wv_win5, words), axis=1)"
   ]
  },
  {
   "cell_type": "code",
   "execution_count": 27,
   "metadata": {},
   "outputs": [
    {
     "output_type": "execute_result",
     "data": {
      "text/plain": [
       "           kor_score   wv_win2   wv_win5\n",
       "kor_score   1.000000  0.315857  0.387332\n",
       "wv_win2     0.315857  1.000000  0.931126\n",
       "wv_win5     0.387332  0.931126  1.000000"
      ],
      "text/html": "<div>\n<style scoped>\n    .dataframe tbody tr th:only-of-type {\n        vertical-align: middle;\n    }\n\n    .dataframe tbody tr th {\n        vertical-align: top;\n    }\n\n    .dataframe thead th {\n        text-align: right;\n    }\n</style>\n<table border=\"1\" class=\"dataframe\">\n  <thead>\n    <tr style=\"text-align: right;\">\n      <th></th>\n      <th>kor_score</th>\n      <th>wv_win2</th>\n      <th>wv_win5</th>\n    </tr>\n  </thead>\n  <tbody>\n    <tr>\n      <th>kor_score</th>\n      <td>1.000000</td>\n      <td>0.315857</td>\n      <td>0.387332</td>\n    </tr>\n    <tr>\n      <th>wv_win2</th>\n      <td>0.315857</td>\n      <td>1.000000</td>\n      <td>0.931126</td>\n    </tr>\n    <tr>\n      <th>wv_win5</th>\n      <td>0.387332</td>\n      <td>0.931126</td>\n      <td>1.000000</td>\n    </tr>\n  </tbody>\n</table>\n</div>"
     },
     "metadata": {},
     "execution_count": 27
    }
   ],
   "source": [
    "data.loc[:, 'kor_score':'wv_win5'].corr()"
   ]
  }
 ]
}