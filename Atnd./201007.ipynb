{
 "metadata": {
  "language_info": {
   "codemirror_mode": {
    "name": "ipython",
    "version": 3
   },
   "file_extension": ".py",
   "mimetype": "text/x-python",
   "name": "python",
   "nbconvert_exporter": "python",
   "pygments_lexer": "ipython3",
   "version": "3.8.5-final"
  },
  "orig_nbformat": 2,
  "kernelspec": {
   "name": "Python 3.8.5 64-bit ('langcomp': conda)",
   "display_name": "Python 3.8.5 64-bit ('langcomp': conda)",
   "metadata": {
    "interpreter": {
     "hash": "e4f16c6f872b5ab50f58d7a3251720dc39f2c6f03f1bfcb1b4d6abafd40da30f"
    }
   }
  }
 },
 "nbformat": 4,
 "nbformat_minor": 2,
 "cells": [
  {
   "cell_type": "code",
   "execution_count": 1,
   "metadata": {},
   "outputs": [],
   "source": [
    "from unicodedata import lookup, name"
   ]
  },
  {
   "cell_type": "code",
   "execution_count": 18,
   "metadata": {
    "tags": []
   },
   "outputs": [
    {
     "output_type": "execute_result",
     "data": {
      "text/plain": "&#39;c391&#39;"
     },
     "metadata": {},
     "execution_count": 18
    }
   ],
   "source": [
    "i = int.from_bytes(lookup('LATIN CAPITAL LETTER N WITH TILDE').encode('UTF-8'), \"big\")\n",
    "f'{i:x}'"
   ]
  },
  {
   "cell_type": "code",
   "execution_count": 52,
   "metadata": {},
   "outputs": [
    {
     "output_type": "execute_result",
     "data": {
      "text/plain": "&#39;ㅁㅢ&#39;"
     },
     "metadata": {},
     "execution_count": 52
    }
   ],
   "source": [
    "'믜'.encode(\"EUC-KR\")\n",
    "b'\\xa4\\xb1\\xa4\\xd2'.decode(\"EUC-KR\")"
   ]
  },
  {
   "cell_type": "code",
   "execution_count": 53,
   "metadata": {},
   "outputs": [],
   "source": [
    "from unicodedata import normalize"
   ]
  },
  {
   "cell_type": "code",
   "execution_count": 54,
   "metadata": {
    "tags": []
   },
   "outputs": [
    {
     "output_type": "stream",
     "name": "stdout",
     "text": "Help on built-in function normalize in module unicodedata:\n\nnormalize(form, unistr, /)\n    Return the normal form &#39;form&#39; for the Unicode string unistr.\n    \n    Valid values for form are &#39;NFC&#39;, &#39;NFKC&#39;, &#39;NFD&#39;, and &#39;NFKD&#39;.\n\n"
    }
   ],
   "source": [
    "help(normalize)"
   ]
  },
  {
   "cell_type": "code",
   "execution_count": 55,
   "metadata": {},
   "outputs": [
    {
     "output_type": "execute_result",
     "data": {
      "text/plain": "[&#39;ᄀ&#39;, &#39;ᅡ&#39;, &#39;ᆨ&#39;]"
     },
     "metadata": {},
     "execution_count": 55
    }
   ],
   "source": [
    "list(normalize('NFD', '각'))"
   ]
  },
  {
   "cell_type": "code",
   "execution_count": 56,
   "metadata": {},
   "outputs": [
    {
     "output_type": "execute_result",
     "data": {
      "text/plain": "[&#39;각&#39;]"
     },
     "metadata": {},
     "execution_count": 56
    }
   ],
   "source": [
    "list(normalize('NFC', '각'))"
   ]
  },
  {
   "cell_type": "code",
   "execution_count": 71,
   "metadata": {},
   "outputs": [
    {
     "output_type": "execute_result",
     "data": {
      "text/plain": "[&#39;ᄀ&#39;, &#39;ᅡ&#39;, &#39;ᆨ&#39;]"
     },
     "metadata": {},
     "execution_count": 71
    }
   ],
   "source": [
    "list(normalize('NFD', b'\\xe1\\x84\\x80\\xe1\\x85\\xa1\\xe1\\x86\\xa8'.decode(\"utf-8\")))"
   ]
  }
 ]
}