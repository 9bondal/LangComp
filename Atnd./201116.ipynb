{
 "metadata": {
  "language_info": {
   "codemirror_mode": {
    "name": "ipython",
    "version": 3
   },
   "file_extension": ".py",
   "mimetype": "text/x-python",
   "name": "python",
   "nbconvert_exporter": "python",
   "pygments_lexer": "ipython3",
   "version": "3.9.0-final"
  },
  "orig_nbformat": 2,
  "kernelspec": {
   "name": "python3",
   "display_name": "Python 3.9.0 64-bit ('langcomp': conda)",
   "metadata": {
    "interpreter": {
     "hash": "e4f16c6f872b5ab50f58d7a3251720dc39f2c6f03f1bfcb1b4d6abafd40da30f"
    }
   }
  }
 },
 "nbformat": 4,
 "nbformat_minor": 2,
 "cells": [
  {
   "cell_type": "code",
   "execution_count": 1,
   "metadata": {},
   "outputs": [],
   "source": [
    "from random import seed, shuffle\n",
    "from collections import Counter, defaultdict\n",
    "import numpy as np"
   ]
  },
  {
   "cell_type": "code",
   "execution_count": 3,
   "metadata": {},
   "outputs": [],
   "source": [
    "with open(\"reviews.txt\") as f:\n",
    "    data = [line.split(\"\\t\") for line in f.read().splitlines()]"
   ]
  },
  {
   "cell_type": "code",
   "execution_count": 4,
   "metadata": {
    "tags": []
   },
   "outputs": [
    {
     "output_type": "stream",
     "name": "stdout",
     "text": [
      "[['1', '오늘/NNG 오후/NNG 2/NR 시/NNM 50/NR 분/NNM 에/JKM 가/VV 아서/ECD 보/VXV 았/EPT 어요/EFN 내용/NNG 은/JX 괜찮/VA 아요/EFN ^^/EMO'], ['1', '원/NNM 드/VV 어/ECS 우먼/NNG 갤가돗/UN 의/JKG 뜻/NNG 하/XSV 지/ECD 않/VXV 은/ETD 매력/NNG 폭발/NNG ./SF 배우/NNG 들/XSN 은/JX 열연/NNG 하/XSV 나/ECE 각본/NNG 이/JKS 따르/VV 아/ECS 주/VXV 지/ECD 못하/VX ㅁ/ETN ./SF 많/VA 은/ETD 이야기/NNG 를/JKO 담/VV 으려니/EFN 다급/XR 해지/VV ㄴ/ETD DC/OL'], ['1', '레/NNG 알/VV ㄹ/ETD 존/NNP 잼/NNG ../SW 진짜/MAG 쩔/VV 었/EPT 음/ETN 기대/NNG 하/XSV 었/EPT 는데/ECD 그/MDT 기대/NNG 보다/JKM 더/MAG 괜찮/VA 은/ETD 영화/NNG 임/NNG !/SF 아/VV 아/ECS 맥/NNG 으로/JKM 또/MAG 보/VV ㄹ/ETD 것/NNB 이/VCP ㅂ니다/EFN !!/SW']]\n"
     ]
    }
   ],
   "source": [
    "print(data[:3])"
   ]
  },
  {
   "cell_type": "code",
   "execution_count": 5,
   "metadata": {},
   "outputs": [],
   "source": [
    "data = [(int(c), doc.split()) for c, doc in data]"
   ]
  },
  {
   "cell_type": "code",
   "execution_count": 6,
   "metadata": {},
   "outputs": [
    {
     "output_type": "stream",
     "name": "stdout",
     "text": [
      "[(1, ['오늘/NNG', '오후/NNG', '2/NR', '시/NNM', '50/NR', '분/NNM', '에/JKM', '가/VV', '아서/ECD', '보/VXV', '았/EPT', '어요/EFN', '내용/NNG', '은/JX', '괜찮/VA', '아요/EFN', '^^/EMO']), (1, ['원/NNM', '드/VV', '어/ECS', '우먼/NNG', '갤가돗/UN', '의/JKG', '뜻/NNG', '하/XSV', '지/ECD', '않/VXV', '은/ETD', '매력/NNG', '폭발/NNG', './SF', '배우/NNG', '들/XSN', '은/JX', '열연/NNG', '하/XSV', '나/ECE', '각본/NNG', '이/JKS', '따르/VV', '아/ECS', '주/VXV', '지/ECD', '못하/VX', 'ㅁ/ETN', './SF', '많/VA', '은/ETD', '이야기/NNG', '를/JKO', '담/VV', '으려니/EFN', '다급/XR', '해지/VV', 'ㄴ/ETD', 'DC/OL']), (1, ['레/NNG', '알/VV', 'ㄹ/ETD', '존/NNP', '잼/NNG', '../SW', '진짜/MAG', '쩔/VV', '었/EPT', '음/ETN', '기대/NNG', '하/XSV', '었/EPT', '는데/ECD', '그/MDT', '기대/NNG', '보다/JKM', '더/MAG', '괜찮/VA', '은/ETD', '영화/NNG', '임/NNG', '!/SF', '아/VV', '아/ECS', '맥/NNG', '으로/JKM', '또/MAG', '보/VV', 'ㄹ/ETD', '것/NNB', '이/VCP', 'ㅂ니다/EFN', '!!/SW'])]\n"
     ]
    }
   ],
   "source": [
    "print(data[:3])"
   ]
  },
  {
   "cell_type": "code",
   "execution_count": 7,
   "metadata": {},
   "outputs": [],
   "source": [
    "seed(208)\n",
    "shuffle(data)"
   ]
  },
  {
   "cell_type": "code",
   "execution_count": 8,
   "metadata": {},
   "outputs": [
    {
     "output_type": "stream",
     "name": "stdout",
     "text": [
      "[(0, ['졸/VV', '려요/ECD', '../SW', '배트/NNG', '맨/NNG', '과/JKM', '슈퍼맨/NNG', '의/JKG', '갑작스럽/VA', 'ㄴ/ETD', '화해/NNG', '??/SW', '뭐/NP', '여/NNG', '??/SW', '루이스/NNG', '는/JX', '또/MAG', '뭐/NP', '여/NNG', '??/SW', '민폐/NNG', '캐릭/NNG', '??/SW', '애/NNG', '니/JC', '다크/UN', '나이트/NNG', '리턴즈/UN', '와/JKM', '두/VV', 'ㅁ/ETN', '스/VV', '데/EFN', '이의/NNG', '짬뽕/NNG', '생뚱맞/VA', '게/ECD', '나타나/VV', '는/ETD', '원/NNM', '드/VV', '어/ECS', '우먼/NNG', '총/MDT', '1/NR', '분/NNM', '미만/NNG', '의/JKG', '출연/NNG', '아쿠아/NNG', '맨/NNG', '과/JKM', '한명/NNG', '더/MAG', '../SW', '기대/NNG', '하/XSV', '지/ECD', '마시/VV', '고/ECE', '보시/VV', '어야/ECD', '하/VV', 'ㅂ니다/EFN']), (1, ['너무너무/MAG', '좋/VA', '아요/EFN', '~~~~~~~~~~/SW']), (0, ['3/NR', '년/NNM', '의/JKG', '기다리/VV', 'ㅁ/ETN', '을/JKO', '이렇게/MAG', '날리/VV', '어/ECS', '먹/VV', '냐/EFQ', '잭/NNG', '슬/VV', '나/ECE', '야/JX', '이놈아/NP', '아아/MAG'])]\n"
     ]
    }
   ],
   "source": [
    "print(data[:3])"
   ]
  },
  {
   "cell_type": "code",
   "execution_count": 9,
   "metadata": {},
   "outputs": [],
   "source": [
    "boundary = int(len(data) * 0.9)\n",
    "train = data[:boundary]\n",
    "test  = data[boundary:]"
   ]
  },
  {
   "cell_type": "code",
   "execution_count": 10,
   "metadata": {},
   "outputs": [],
   "source": [
    "Ndoc = len(train)\n",
    "Nc = Counter(c for c, _ in train)"
   ]
  },
  {
   "cell_type": "code",
   "execution_count": 11,
   "metadata": {},
   "outputs": [
    {
     "output_type": "execute_result",
     "data": {
      "text/plain": [
       "Counter({0: 40, 1: 47})"
      ]
     },
     "metadata": {},
     "execution_count": 11
    }
   ],
   "source": [
    "Nc"
   ]
  },
  {
   "cell_type": "code",
   "execution_count": 12,
   "metadata": {},
   "outputs": [],
   "source": [
    "logprior = {c: np.log(cnt / Ndoc) for c, cnt in Nc.items()}"
   ]
  },
  {
   "cell_type": "code",
   "execution_count": 13,
   "metadata": {},
   "outputs": [
    {
     "output_type": "stream",
     "name": "stdout",
     "text": [
      "{0: -0.7770286645406475, 1: -0.6157605169445252}\n"
     ]
    }
   ],
   "source": [
    "print(logprior)"
   ]
  },
  {
   "cell_type": "code",
   "execution_count": 14,
   "metadata": {},
   "outputs": [
    {
     "output_type": "stream",
     "name": "stdout",
     "text": [
      "998 ['오후/NNG', '비하/VV', '억/NR', '자/ECE', '씩/MAG', '어/ECS', '속편/NNG', '영웅스리즈같/UN', '더하/VV', '디시/NNG', '씬/NNG', '다만/MAG', '저스/UN', '괜찮/VA', '마음/NNG', '대상/NNG', '당/NNG', '급하/VA', '냐/EFQ', '더욱더/MAG', '워낙/MAG', '너무너무/MAG', '뻥뻥/MAG', '려는/ETD', '4/NR', '좋/VV', '여기/NP', '급/NNG', '비만/NNG', '반감/NNG', '시간/NNM', '매우/MAG', '터/NNG', '아/VV', '편/NNG', '괴물/NNG', '갈/VV', '수/NNB', '불안/NNG', '역/NNG', '서사시/NNG', '다섯/NR', '매력/NNG', '지수/NNG', '스케일/NNG', '씨/NNB', '호/NNB', '니/ECD', '하/XSV', '간만/NNG', '라도/ECD', '장난/NNG', '싸우/VV', '스타워즈/NNG', '만/NR', '어요/EFN', '허구/NNG', 'ㄷ/NNG', '세면대/NNG', '만나/VV', '다는/ETD', '수가/NNG', '제로/NNG', '그/VA', '캐릭터/NNG', '하다/NNP', '고유/NNG', '올리/VV', '엉망/NNG', 'ㄹ라/ECD', '좋/VA', '마/MAG', '되/XSV', '마시/VV', '30/NR', '무게/NNG', '스틸/NNG', '하/XSA', '말자/NNG', 'vs/OL', '드립/NNG', '스럽/XSA', '수준/NNG', '에/JKM', '슈퍼맨/NNG', '지/ECD', '조금/NNG', '야/NNB', '외면/NNG', 'DC/OL', '?/SF', '의/JKG', '설정/NNG', '있/VV', '시/VV', '원작/NNG', '좀/MAG', '살리/VV', '맨/MDT', '보고/NNG', '먹/VV', '신기/XR', '참고/NNG', '우울/NNG', '아쿠아/NNG', '별/NNG', '결과/NNG', '나타나/VV', '분/NNB', '달리/VV', '받/VV', '돈/NNG', '떡밥/NNG', '정반대/NNG', '다/MAG', '원하/VV', '완전/NNG', '하지/NNG', '~/SO', '으시/EPH', '수트/NNG', '아니/VV', '었/EPT', 'ㄴ다/ECS', '뒤통수/NNG', '^^/EMO', '차/VV', '년/NNM', '잡/VV', '..../SW', '초반/NNG', '그/VV', '볼만/NNG', '습니다/EFN', 'ㄹ/ETD', '미국/NNP', '으로써/JKM', '와/JKM', '과/JC', '꽤나/MAG', '영원히/MAG', '다니요/EFN', '만족/NNG', '차리/VV', '보리밥/NNG', '티켓/NNG', '안됨/NNG', '남/NNG', '갱/NNG', '한명/NNG', '맥/NNG', 'ㄴ가/EFQ', '낳/VV', '상황/NNG', '니깐/ECD', '이유/NNG', '어/VV', '자막/NNG', '인상적/NNG', '비주얼/NNG', '그리하/VV', '하/VV', '폭풍/NNG', '까/VV', '라/NNG', '보다/JKM', '어둡/VA', '포즈/NNG', '고/ECS', ')/SS', '정작/NNG', '근사/XR', '악당/NNG', '까지/JX', '안되/VV', '덜덜/MAG', '은/ETD', '억울/XR', '덜/MAG', '다/EFN', '기억나/VV', '요/JX', '장담/NNG', '드디어/MAG', '데/EFN', '묵직/XR', '조커/NNG', '안되/VA', '가끔/MAG', '기/ETN', '밑/NNG', '군/NNG', '레인/NNG', '영상미/NNG', '작/NNG', '시나리오/NNG', '극장/NNG', '지/XSA', '에게/JKM', '면/ECE', 'ㄴ다는/ETD', '시키/XSV', '저조/NNG', '야지/EFN', '펼쳐지/VV', '!!!!!!!/SW', '돗/UN', '따라하/VV', '암/NNG', '영/MAG', '포스/NNG', '을/ETD', '겁/NNG', '네/EFN', '겪/VV', 'MOS/OL', '짧/VA', '어차피/MAG', '으니/ECD', '쉐/VV', '......../SW', '여/NNG', '트/VV', '손색/NNG', '한판/NNG', '강렬/XR', '늘어지/VV', '는데요/ECD', '앗/IC', '어서/ECD', '비우/VV', '토마토/NNG', '않/VXV', '이랑/JC', '암울/NNG', '리/EFQ', '니/JC', '업적/NNG', '가/NNG', '부/XPN', '그냥/MAG', '상관없이/MAG', '!/SF', '인하/VV', '화면/NNG', '즐거움/NNG', '철학/NNG', '버리/VXV', '롭/XSA', '보잘것/NNG', '시/EPH', '사랑/NNG', '오감/NNG', '허/NNG', '보/VV', '멸망/NNG', '돌아오/VV', '쩔/VV', '고로/MAG', '개/NNM', '없/VA', '잭/NNG', '성인/NNG', '살짝/MAG', '차라리/MAG', '재밌/VA', '사관/NNG', '로/NNG', '박살내/VV', '반/NNG', '성공적/NNG', '침울/XR', '두/VV', '이름/NNG', '무/XPN', '볼거리/NNG', '위대/NNG', '보고/JKO', '이내/NNG', '저/NP', '겠/EPT', '근/NNG', '나요/EFQ', '아/ECD', '생각/NNG', '조드/UN', '대하/VV', '느낌/NNG', '그/NP', '자리/NNG', '진짜/MAG', '많이/MAG', '추억/NNG', '뿐/JX', '진심/NNG', '해지/VV', '뜬금/NNG', '그렇지만/MAC', '마블/NNG', '??/SW', '아요/EFN', '사실/NNG', '준수/NNG', '봄/NNG', '이나/JC', '플래시/NNG', '연계/NNG', '첫/MDT', '꽤/MAG', '나오/VV', '더/EPT', '연기/NNG', '암흑/NNG', '이의/NNG', 'ㅋㅋ/EMO', '실망/NNG', '이해/NNG', '만화가/NNG', '스포일러/NNG', '자비/NNG', '불/NNG', '터지/VV', '욕하/VV', 'ㄴ다/EFN', '울/VV', '와/JC', '모르/VV', '짐/NNG', '폭탄/NNG', '징/NNG', '........./SW', '으/UN', '게/ECD', '각자/NNG', '봐서/VV', '어/ECD', '는/ETD', '메세지/NNG', '짬뽕/NNG', '장엄/NNG', '은/JX', '짱/NNG', '줄/NNB', '풋/XPN', '마저/JX', '적이/VV', '나/ECE', '쿠키/NNG', '허무/NNG', '위하/VV', '뿐/NNB', '세기/NNG', '빼/VV', '거지/NNG', '처음/NNG', '너무멎찐후/UN', '오브/NNG', 'ㅋㅋㅋ/EMO', '깊이/NNG', '지/NNB', '예감/NNG', '중심/NNG', 'ㄹ라고/EFQ', '슈/UN', '스루/NNG', '만들/VV', '참/VV', '주름/NNG', '개연성/NNG', '못하/VX', '캐릭/NNG', '보이/VV', '멈추/VV', '음/ETN', '하나/NNG', '소문/NNG', '이렇/VA', '등장/NNG', '리그/NNG', '후회/NNG', '이/NR', '3/NR', '오늘/NNG', '건만/ECE', '알았/VV', '멋/NNG', '부모/NNG', '그럭저럭/MAG', '번/NNB', '열/VV', '어로/NNG', '보여주/VV', '잼/NNG', '아주/MAG', '마지막/NNG', '찌그러지/VV', '끈/NNG', '적/XSN', '음/IC', '그러/VV', '려고/ECD', '찍/VV', '등/NNB', '뿌리/VV', '중요/NNG', '같/VA', '기다리/VV', '질/NNG', '나/VV', '예상/NNG', '총/MDT', '그러나/MAC', '내/VV', '에/VV', '는데/ECD', '기에/ECD', '설명/NNG', '안/NNG', '란/ETD', '새벽/NNG', '은/JKS', '대/NNB', '오락/NNG', '젤/MAG', '접/NNM', '겨우/MAG', '거/NNB', '후/NNG', '근성/NNG', '손발/NNG', 'ㄴ다만/ECE', '박/NNG', '이/NNB', '분위기/NNG', '정신/NNG', '괜츈했/UN', '마/NNG', '아도/ECD', '딱/MAG', '안/MAG', '터/NNB', '만큼/NNB', '감독/NNG', '핵심/NNG', 'D/OL', '순간/NNG', '비빔밥/NNG', '나이트/NNG', '쌓이/VV', '던/EFQ', '하면/NNP', '나/JC', '나도/NNG', '라는/ETD', '매일/MAG', '서/JKM', '뚜껑/NNG', '개/NNG', '그동안/NNG', '복수심/NNG', '저기/NP', '아라/EFO', '가/VV', '크/VA', '첫날/NNG', '최악/NNG', '떠나/VV', '//SP', '야/JX', ',,,,,,,,,,/SW', '자/NNB', '!!!/SW', '들/XSN', '줄/NNG', '면서/ECE', '짜/VV', '새롭/VA', '영화/NNG', '오/VV', \"'/SS\", '100/NR', '전/MDT', '기한/NNG', '슬/VV', '분/NNM', '맨/NNG', '디/NNG', '......./SW', '지경/NNB', '를/JKO', '평가/NNG', '느끼/VV', '연출력/NNG', '야심/NNG', '두/MDN', '화해/NNG', '다운/NNG', ',,,,/SW', '죽이/VV', 'ㄴ다고/ECE', '시사회/NNG', '을/JKO', '알리/VV', '나/NP', '발/NNG', '주/VXV', '비교/NNG', '네요/EFN', '오/VX', '호불호/NNG', '의문/NNG', '유치/NNG', '맡기/VV', '당분간/MAG', '증오/NNG', '히어로/NNG', '영상/NNG', '근데/MAG', '뇌/NNG', 'ㅜ/UN', '여행/NNG', 'ㄴ/ETD', '델/VV', '%/SW', 'ㅁ/ETN', '장점/NNG', '이제/MAG', 'ㅠㅠ/EMO', '허술/XR', '시리즈/NNG', '마라/NNG', '진지/NNG', '졸작/NNG', '구나/EFI', '아/ECS', '넘/NNB', '관람/NNG', '집기/NNG', '추천/NNG', '따르/VV', '아마/MAG', '어울리/VV', '무리/NNG', '그리/VV', '아서/ECD', '개봉/NNG', '../SW', '다른/MDT', '우리/NP', '번/NNM', '각본/NNG', '티스/NNG', '10/NR', '정말/MAG', '끊어지/VV', '콜라/NNG', '적중/NNG', '봤슴/UN', '더니/ECD', '애/NNG', '말/NNG', '팝콘/NNG', '지/EFN', '비/XPN', '넘/VV', '승/NNM', '이후/NNG', '미만/NNG', '으로/JKM', '따/VV', '어불성설/NNG', '평점/NNG', '부족/NNG', '담/VV', '말해/NNG', '라/ECD', '처럼/JKM', '이런/MDT', '편/NNB', '뜻/NNG', '전부/MAG', '듯/NNB', 'dc/OL', '행보/NNG', '이기/VV', '뛰쳐나가/VV', '진짜/NNG', '오히려/MAG', '2/NR', '도/NNG', '왜/MAG', '있/VXV', '특유/NNG', '이나/JX', '다고/EFN', '스토리/NNG', '둘/NNG', '한참/NNG', '인간적/NNG', '박이/NNG', '신/XPN', '날리/VV', '침울/NNG', '약간/MAG', '망/NNG', 'ㄴ/JX', '전쟁/NNG', '을지/ECS', '트랜스포머/NNG', 'ㅂ니다/EFN', '내용/NNG', '없이/MAG', '우먼/NNG', '가/JKS', '가볍/VA', '러닝/NNG', '니까/ECD', '가/JKC', '법/NNG', '집어넣/VV', 'ㄴ지/ECS', '루이스/NNG', '전율/NNG', '으나/ECE', '깔/VV', '빌/VV', '.../SE', '한말/NNG', '피로/NNG', '어야/ECD', '아쉬움/NNG', '알바/NNG', '조조/NNG', '어쨋든/MAG', '바닥/NNG', '식민/NNG', '어쨌건/MAG', '보/NNG', '값/NNG', 'ㅉ/UN', '맛/NNG', '5,000/NR', '오/NR', '되/VV', '리턴즈/UN', '50/NR', '타임/NNG', '크레딧/UN', '게임/NNG', '함/NNG', '렉/NNG', '말씀/NNG', '전달/NNG', '는/JX', '기대되/VV', '히/NNG', '기대/NNG', '의회/NNG', '세상/NNG', '-/SW', '시작/NNG', '사이코/NNG', '가지/VV', 'ㅠ/UN', '갤가돗/UN', '내요/EFN', '액션/NNG', '대/NNG', '충분히/MAG', '그/MDT', '동안/NNG', '끝내주/VV', '~~~~~~~~~~/SW', '이/JKC', '엔딩/NNG', '특히/MAG', '즐기/VV', '팬/NNG', '고하/VV', 'ㅁ에도/ECD', '든/ECE', '18/NR', '끝/NNG', '져스/UN', '볼려/UN', '승리/NNG', '프로/NNG', '추정/NNG', '깊/VA', '잇/VV', '난국/NNG', '징징거리/VV', '시사/NNG', '쓰/VV', '아야/ECD', '돈옵저/UN', '상/XSN', '때/NNG', '열연/NNG', '작품/NNG', '~~~/SW', '글쎄/IC', '갈리/VV', '스/VV', '건/NNM', '다급/XR', '당신/NP', '아직/MAG', '놀라/VV', '정말/NNG', '놀/VV', '여도/ECD', '주말/NNG', '알/VV', '좋아하/VV', '비쥬얼/NNG', '잡탕/NNG', '!!/SW', '고/ECE', '고요/EFN', '로/JKM', '싸움/NNG', '수퍼/NNG', '주/VV', '꿀/NNG', '하기/NNG', '또/MAG', '피/NNG', '지금/NNG', '편/NNM', '아아/MAG', '이렇게/MAG', '무슨/MDT', '보시/VV', '갓/MAG', '나이/NNG', '검색/NNG', '뻣뻣/XR', '흥미/NNG', '길/VA', '무성/NNG', 'ㅎㅎ/EMO', '뭐/NP', '싶/VXV', '으면/ECD', '존/NNP', '억지/NNG', '던데/ECD', '잖아/EFN', '더/NNG', '만큼/NNG', '에서/JKM', '만두/NNG', '판교/NNG', '많/VA', '런/NNG', '는지/ECS', '아야지/EFN', '더라도/ECD', '병/NNG', '공식/NNG', '멋있/VA', '부분/NNG', '도/JX', '점/NNB', '더/MAG', '덜/VV', '출연/NNG', '새끼/NNG', '싸움질/NNG', '40/NR', ':/SP', '1/NR', '이거/NP', '졸리/VV', '대로/JX', '귀가/NNG', '을리/VV', '풀/VV', '오/NNG', '재수/NNG', '대/XPN', '역사관/NNG', '신중/NNG', '철학과/NNG', '멀쩡/XR', '과정/NNG', '라/EFN', '편의/NNG', '아깝/VV', '노예/NNG', '라서/ECD', '아무말/NNG', '뻔히/MAG', '번역가/NNG', '다음/NNG', '갑작스럽/VA', '밀리/VV', '잘/MAG', '지구/NNG', '제대/NNG', 'Ps/OL', '생뚱맞/VA', '계속/MAG', '는/EPT', '듀스/NNG', '의미/NNG', '없으/UN', '서사/NNG', '굿/NNG', '책임/NNG', '님/NNG', '뒷/NNG', '라고/JX', '시원시원/MAG', '혼자/NNG', '점/NNM', '개/VV', '안하/VV', '답/VA', '따위/NNB', '이번/NNG', '망하/VV', '만/JX', '명분/NNG', '다크/UN', '이/JKS', '였/EPT', '남/VV', '밖에/JX', 'ㄴ다면/ECE', '모양/NNG', '원/NNM', '죽/VV', '라면/ECD', '보고/JKM', '물/NNG', '나/JX', '!!!!!/SW', '앞/NNG', '갈등/NNG', '푸/VV', '임/NNG', '이상/NNG', 'ㄴ데/ECE', '덥/VV', '너무/MAG', ',/SP', '다가/ECD', '끼우/VV', '빠지/VV', '이/NNG', '나쁘/VA', '전/NNG', '정도/NNG', './SF', '겐/UN', '제/XPN', '뭔/MDT', '돈까스/NNG', ',,,,,,/SW', '재미나/VV', '취향/NNG', '관객/NNG', '뽕짝/NNG', '고도/NNG', '~~/SW', '고는/ECE', '시/NNG', '보람/NNG', '스포하/UN', '스포/UN', '그거/NP', '이/MDT', '그나마/MAG', '사이/NNG', '머/NP', '이리/NNG', '슈나이더/NNG', '말/VV', '다면/ECE', '흥미진진/XR', '있드/UN', '영화관/NNG', '약/NNG', '폭발/NNG', '개판/NNG', '다운로드/NNG', '튜브/NNG', '니들/NNG', '화/NNG', '할려/UN', '진짜로/MAG', '유/NNG', '찾/VV', '틀/NNG', '여/ECS', '총체적/NNG', '시간/NNG', '이/VCP', '방출/NNG', '재미지/VA', '흥행/NNG', '배우/NNG', '그닥/MAG', '모든/MDT', '보다/MAG', '말/VXV', '았/EPT', '핵/NNG', '들이/XSN', '리/NNB', '걍/MAG', '결론/NNG', '지만/ECE', '배/NNG', '베/VV', '최고/NNG', '낭비/NNG', '맞추기/NNG', '못/NNG', '이놈아/NP', '고/JC', '마사/NNG', '있다/MAG', '것/NNB', '대박/NNG', '전초전/NNG', '시/NNM', '오글거리/VV', '배트/NNG', '배제/NNG', '씨/NNG', '답/XSA', '열쇠/NNG', '의/NNG', '방식/NNG', '>/SS', '사람/NNG', '대결/NNG', '드/VV', '민폐/NNG', '전체적/NNG', '...../SW', '늘/VV', '으려니/EFN', ';;/SW', '누/VV', '어제/NNG', '먹/NNG', '지루/XR', '어둡/VV', '기억/NNG', '러/ECD', '디지/VV', '(/SS', '뇌쇄/NNG', '어느/MDT', '고난/NNG', '이딴/MDT', '려요/ECD', '보/VXV', '레/NNG', '거든요/EFN', '전개/NNG', '어/EFN', '오래/MAG', '잣대/NNG', '</SS', '과/JKM', 'ㄴ지/ECD', '결국/NNG', '못/MAG', '당장/MAG', '신/NNG', '충분/XR', '싶/VXA', '소재/NNG', '힘/NNG', '양심적/NNG', '지요/EFN', '불구하/VV', '으려고/ECD', '만약/NNG', '그지/NNG', '만하/VXA', '재미있/VA', '깨어나/VV', '나가/VV', '졸/VV', '그렇/VA', '다/ECS', '아니/VCN', '재미/NNG', '에너지/NNG', '이야기/NNG', '끝나/VV', '가장/MAG']\n"
     ]
    }
   ],
   "source": [
    "vocabulary = list(set(ch for *_, doc in train for ch in doc))\n",
    "print(len(vocabulary), vocabulary)"
   ]
  },
  {
   "cell_type": "code",
   "execution_count": 15,
   "metadata": {},
   "outputs": [],
   "source": [
    "bigdoc = defaultdict(list)\n",
    "for stmt, doc in train:\n",
    "    bigdoc[stmt].extend(doc)"
   ]
  },
  {
   "cell_type": "code",
   "execution_count": 18,
   "metadata": {
    "tags": []
   },
   "outputs": [
    {
     "output_type": "stream",
     "name": "stdout",
     "text": [
      "['졸/VV', '려요/ECD', '../SW', '배트/NNG', '맨/NNG', '과/JKM', '슈퍼맨/NNG', '의/JKG', '갑작스럽/VA', 'ㄴ/ETD', '화해/NNG', '??/SW', '뭐/NP', '여/NNG', '??/SW', '루이스/NNG', '는/JX', '또/MAG', '뭐/NP', '여/NNG', '??/SW', '민폐/NNG', '캐릭/NNG', '??/SW', '애/NNG', '니/JC', '다크/UN', '나이트/NNG', '리턴즈/UN', '와/JKM', '두/VV', 'ㅁ/ETN', '스/VV', '데/EFN', '이의/NNG', '짬뽕/NNG', '생뚱맞/VA', '게/ECD', '나타나/VV', '는/ETD', '원/NNM', '드/VV', '어/ECS', '우먼/NNG', '총/MDT', '1/NR', '분/NNM', '미만/NNG', '의/JKG', '출연/NNG', '아쿠아/NNG', '맨/NNG', '과/JKM', '한명/NNG', '더/MAG', '../SW', '기대/NNG', '하/XSV', '지/ECD', '마시/VV', '고/ECE', '보시/VV', '어야/ECD', '하/VV', 'ㅂ니다/EFN', '3/NR', '년/NNM', '의/JKG', '기다리/VV', 'ㅁ/ETN', '을/JKO', '이렇게/MAG', '날리/VV', '어/ECS', '먹/VV', '냐/EFQ', '잭/NNG', '슬/VV', '나/ECE', '야/JX', '이놈아/NP', '아아/MAG', '나/NP', '가/JKS', '원하/VV', '더/EPT', 'ㄴ/ETD', '배트/NNG', '맨/NNG', '은/JX', '이렇/VA', 'ㄴ/ETD', '것/NNB', '이/JKS', '아니/VV', '었/EPT', '다/EFN', './SF', '만약/NNG', '이/NNG', '스토리/NNG', '에/JKM', '배트/NNG', '맨/NNG', '이/JKS', '없/VA', '고/ECE', '슈퍼맨/NNG', '이랑/JC', '원/NNM', '드/VV', '어/ECS', '우먼/NNG', '만/JX', '나오/VV', '았/EPT', '다면/ECE', '정말/MAG', '개/NNG', '망/NNG', '영화/NNG', '이/VCP', 'ㅂ니다/EFN', './SF', '그나마/MAG', '배트/NNG', '맨/NNG', '이/JKS', '나오/VV', '아서/ECD', '어느/MDT', '정도/NNG', '무게/NNG', '중심/NNG', '을/JKO', '잡/VV', '아/ECD', '주/VXV', '지만/ECE', '악당/NNG', '캐릭터/NNG', '가/JKS', '영/MAG', '보잘것/NNG', '없/VA', '어서/ECD', '보시/VV', '면/ECE', '실망/NNG', '하/XSV', '시/EPH', '는/ETD', '분/NNB', '도/JX', '많/VA', '을/ETD', '듯/NNB', '기대/NNG', '안/NNG', '하/XSV', '고/ECE', '그냥/MAG', '히/NNG', '어로/NNG', '물/NNG', '오락/NNG', '영화/NNG', '로/JKM', '보/VV', '면/ECE', '볼만/NNG', '은/JX', '하/VV', 'ㅂ니다/EFN', './SF', '18/NR', '여기/NP', '알바/NNG', '새끼/NNG', '들/XSN', '졸/VV', 'ㄹ라/ECD', '많/VA', '네/EFN', '억울/XR', '하/XSA', '다/ECS', '나/NP', '만/JX', '당/NNG', '하/XSV', 'ㄹ/ETD', '수/NNB', '없/VA', '지/ECD', 'ㅋㅋㅋ/EMO', '대박/NNG', '이/VCP', 'ㅂ니다/EFN', './SF', '정말/MAG', '후회/NNG', '많이/MAG', '함/NNG', './SF', 'DC/OL', '는/JX', '이제/MAG', '마블/NNG', '에/JKM', '계속/MAG', '밀리/VV', '겠/EPT', '다/EFN', 'ㅋㅋㅋ/EMO', '영화/NNG', '는/JX', '아직/MAG', '안/MAG', '보/VV', '았/EPT', '지만/ECE', '잭/NNG', '슬/VV', '나/ECE', '이/NNG', '더/MAG', '지루/XR', '하/XSA', '게/ECD', '전개/NNG', '하/XSV', 'ㄹ/ETD', '거/NNB', '같/VA', '더니/ECD', '시사회/NNG', '영화/NNG', '티켓/NNG', '도/JX', '울/VV', '고/ECE', ',/SP', '팝콘/NNG', '도/JX', '울/VV', '고/ECE', ',/SP', '콜라/NNG', '도/JX', '울/VV', '고/ECE', ',/SP', '나도/NNG', '울/VV', '었/EPT', '다/EFN', './SF', '유치/NNG', '의/JKG', '끝/NNG', '소문/NNG', '만/JX', '무성/NNG', '하/XSV', '었/EPT', '던/EFQ', '스타워즈/NNG', '같/VA', '았/EPT', '더/EPT', 'ㄴ/ETD', '모양/NNG', '이/VCP', '네/EFN', './SF', '자/NNB', 'DC/OL', '는/JX', '이제/MAG', '영화/NNG', '만들/VV', 'ㄹ/ETD', '때/NNG', '신중/NNG', '하/XSV', '게/ECD', '그리/VV', '고/ECE', '관객/NNG', '을/JKO', '호/NNB', '갱/NNG', '으로/JKM', '봐서/VV', 'ㄴ/ETD', '안됨/NNG', '정말/NNG', '로/NNG', '트/VV', 'ㄴ/ETD', '토마토/NNG', '평점/NNG', '지수/NNG', '왜/MAG', '그렇/VA', '게/ECD', '나오/VV', 'ㄴ/ETD', '지/NNB', '알/VV', '았/EPT', '다/ECS', 'ㅉ/UN', 'ㅉ/UN', '알바/NNG', '들/XSN', '제대/NNG', '로/JKM', '올리/VV', '어/ECS', '라/NNG', '유/NNG', '튜브/NNG', '에서/JKM', './SF', '나오/VV', 'ㄴ/ETD', './SF', '영화/NNG', '이/VCP', '다/EFN', './SF', '극장/NNG', '가/VV', '지/ECD', './SF', '말/VV', '고/ECE', './SF', '유/NNG', '튜브/NNG', '슈퍼맨/NNG', '하면/NNP', './SF', '이/NR', '번/NNM', './SF', '영화/NNG', './SF', '나오/VV', 'ㄴ다/EFN', './SF', '돈/NNG', '이/JKS', './SF', '아깝/VV', '다/EFN', './SF', '미국/NNP', '의회/NNG', '까지/JX', '등장/NNG', '하/XSV', '는/ETD', '세상/NNG', '진지/NNG', '하/XSV', 'ㄴ/ETD', '서사/NNG', '와/JC', '캐릭터/NNG', '로/JKM', '분위기/NNG', '까지/JX', '침울/XR', '하/XSA', '지만/ECE', '게임/NNG', '이/JKS', '안되/VV', 'ㄹ/ETD', '것/NNB', '같/VA', '았/EPT', '더/EPT', 'ㄴ/ETD', '그/NP', '들/XSN', '의/JKG', '액션/NNG', '만큼/NNG', '은/JX', '짧/VA', '지만/ECE', '매우/MAG', '강렬/XR', '하/XSV', '었/EPT', '다/EFN', './SF', '돈옵저/UN', '의/JKG', '멸망/NNG', '슈퍼맨/NNG', '진짜/MAG', '죽/VV', '나요/EFQ', '?/SF', '무슨/MDT', '내용/NNG', '이/VCP', 'ㄴ지/ECD', '.../SE', '여기/NP', '저기/NP', '서/JKM', '짜/VV', '아/ECS', '집기/NNG', '하/XSV', 'ㄴ/ETD', '잡탕/NNG', '영화/NNG', '?/SF', ',,,,,,,,,,/SW', '스타워즈/NNG', '깨어나/VV', 'ㄴ/ETD', '포스/NNG', '를/JKO', '잇/VV', '을/ETD', '기대/NNG', '하/XSV', 'ㄴ/ETD', '만큼/NNB', '보다/MAG', '저조/NNG', '하/XSV', 'ㄴ/ETD', '뒤통수/NNG', '작/NNG', '.../SE', '잭/NNG', '슬/VV', '나/ECE', '이/NNG', '덜/VV', '는/ETD', '영화/NNG', '바닥/NNG', '에서/JKM', '영원히/MAG', '떠나/VV', '아야/ECD', '하/VV', 'ㅁ/ETN', './SF', '매일/MAG', '영화관/NNG', '가/VV', '아서/ECD', '이딴/MDT', '거/NNB', '나/JX', '보/VV', '면서/ECE', '흥행/NNG', '을/JKO', '올리/VV', '어/ECS', '주/VXV', '고/ECE', '있/VXV', '으니/ECD', ',/SP', '니들/NNG', '의/JKG', '그지/NNG', '근성/NNG', ',/SP', '노예/NNG', '근성/NNG', ',/SP', '식민/NNG', '사관/NNG', '은/JX', '끝/NNG', '이/JKS', '없/VA', '는/ETD', '것/NNB', '이/VCP', '다/EFN', './SF', '영화관/NNG', '가/VV', '아서/ECD', '흥행/NNG', '올리/VV', '어/ECS', '주/VXV', '지/ECD', '말/VXV', '고/ECE', ',/SP', '볼려/UN', '이/VCP', '면/ECE', '차라리/MAG', '다운로드/NNG', '받/VV', '아서/ECD', '보/VXV', '는/ETD', '거/NNB', '추천/NNG', '하/XSV', 'ㅁ/ETN', './SF', '멀쩡/XR', '하/XSA', 'ㄴ/ETD', '캐릭/NNG', '이/JKS', '하나/NNG', '도/JX', '없/VA', '다/EFN', './SF', '그동안/NNG', '의/JKG', '추억/NNG', '을/JKO', '박살내/VV', '고/ECE', '싶/VXV', '으면/ECD', '보/VV', '자/ECE', './SF', '힘/NNG', '에/JKM', '대하/VV', 'ㄴ/ETD', '책임/NNG', '으로/JKM', '인하/VV', 'ㄴ/ETD', '슈퍼맨/NNG', '의/JKG', '인간적/NNG', '이/VCP', 'ㄴ/ETD', '갈등/NNG', '과/JKM', '배트/NNG', '맨/NNG', '의/JKG', '사이코/NNG', '적이/VV', 'ㄴ/ETD', '복수심/NNG', '의/JKG', '시나리오/NNG', './SF', '지루/XR', '하/XSA', 'ㄴ/ETD', '전개/NNG', './SF', '맨/NNG', '오브/NNG', '스틸/NNG', '보다/JKM', '한참/NNG', '약/NNG', '하/XSV', 'ㄴ/ETD', '액션/NNG', '../SW', '그러/VV', 'ㄴ/ETD', '것/NNB', '드/VV', 'ㄹ/ETD', '도/NNG', '그럭저럭/MAG', '이해/NNG', '하/XSV', 'ㄴ다만/ECE', ',/SP', '마사/NNG', '.../SE', '마사/NNG', '드립/NNG', '지/XSA', 'ㄹ/ETD', '로/NNG', '이번/NNG', '편의/NNG', '가장/MAG', '핵심/NNG', '이/JKC', '되/VV', '는/ETD', '배트/NNG', '맨/MDT', 'vs/OL', '슈퍼맨/NNG', '의/JKG', '싸움/NNG', '이/JKS', '멈추/VV', '었/EPT', '다는/ETD', '거/NNB', '에/JKM', '손발/NNG', '의/JKG', '오글거리/VV', 'ㅁ/ETN', '이/JKS', '멈추/VV', '지/ECD', '않/VXV', '는/EPT', '다/EFN', './SF', 'DC/OL', '가/JKS', '결국/NNG', '위대/NNG', '하/XSV', '었/EPT', '던/EFQ', '놀/VV', '란/ETD', '의/NNG', '업적/NNG', '마저/JX', '박살내/VV', '었/EPT', '다/EFN', './SF', '차라리/MAG', '다크/UN', '나이트/NNG', '이후/NNG', '모든/MDT', '작품/NNG', '을/JKO', '놀라/VV', 'ㄴ/ETD', '에/VV', '게/ECD', '맡기/VV', '었/EPT', '다면/ECE', '지금/NNG', '은/JX', '마블/NNG', '과/JC', 'DC/OL', '의/JKG', '박/NNG', '터지/VV', '는/ETD', '히어로/NNG', '전쟁/NNG', '을/JKO', '보/VV', 'ㄹ/ETD', '수/NNB', '있/VV', '었/EPT', '을/ETD', '터/NNB', '이/VCP', 'ㄴ데/ECE', '.../SE', '잭/NNG', '슈나이더/NNG', '당신/NP', '은/JX', '놀라/VV', 'ㄴ/ETD', '이/NNB', '아니/VCN', '다/EFN', './SF', '액션/NNG', '만/JX', '잘/MAG', '찍/VV', '는/ETD', '감독/NNG', '이/VCP', 'ㄹ/ETD', '뿐/NNB', './SF', '그러/VV', '니/ECD', '차라리/MAG', '철학/NNG', '을/JKO', '배제/NNG', '하/XSV', '고/ECE', '액션/NNG', '으로/JKM', '가/VV', '었/EPT', '어/EFN', '야/NNB', '하/VV', '건만/ECE', '놀라/VV', 'ㄴ/ETD', '따라하/VV', '다/ECS', '망하/VV', '었/EPT', '다/EFN', './SF', '스토리/NNG', '개연성/NNG', '부족/NNG', ',/SP', '번역가/NNG', '가/JKS', '이상/NNG', '하/XSV', 'ㅁ/ETN', '진짜로/MAG', '영화/NNG', '보/VV', '는/ETD', '동안/NNG', '뛰쳐나가/VV', '고/ECE', '싶/VXA', '었/EPT', '음/ETN', '.../SE', '지루/XR', '하/XSA', '고/ECE', '우울/NNG', '하/XSV', '고/ECE', ';;/SW', '그/VA', 'ㄴ데/ECE', '슈퍼맨/NNG', '까지/JX', '죽/VV', '어/ECD', '버리/VXV', '니/ECD', '...../SW', '3/NR', '점/NNB', '은/JX', '슈퍼맨/NNG', '배트/NNG', '맨/MDT', '원/NNM', '드/VV', '어/ECS', '우먼/NNG', '이름/NNG', '값/NNG', ';;/SW', '맨/NNG', '오브/NNG', '스틸/NNG', '의/JKG', '감독/NNG', '이/VCP', '라/ECD', '불안/NNG', '하/XSV', '었/EPT', '다/EFN', './SF', '예감/NNG', '은/JX', '적중/NNG', '하/XSV', '다/ECS', '못하/VX', '어/ECS', '더/MAG', '최악/NNG', './SF', '스토리/NNG', '로/JKM', '영화/NNG', '를/JKO', '못/MAG', '풀/VV', '어/ECD', '갈/VV', 'ㄹ/ETD', '거/NNB', '이/VCP', '면/ECE', '맨/NNG', '오브/NNG', '스틸/NNG', '처럼/JKM', '액션/NNG', '이/VCP', '라도/ECD', '끝내주/VV', '게/ECD', '찍/VV', '더/EPT', 'ㄴ가/EFQ', './SF', '개연성/NNG', '제로/NNG', '에/JKM', '크/VA', 'ㄹ/ETD', '리/NNB', '쉐/VV', '는/ETD', '고도/NNG', '비만/NNG', '이/VCP', '다/EFN', './SF', '예상/NNG', '대로/JX', '개/NNG', '유치/NNG', '뽕짝/NNG', '~/SO', '그러나/MAC', '수퍼/NNG', '맨/NNG', '이/VCP', '니까/ECD', '보/VXV', '아야지/EFN', '~/SO', '첫날/NNG', '조조/NNG', '보/VV', '고/ECE', '오/VX', '았/EPT', '는데/ECD', '..../SW', '영화/NNG', '를/JKO', '이/NNG', '따위/NNB', '로/JKM', '만들/VV', '냐/EFQ', ',,,,,,/SW', '배트/NNG', '맨/NNG', '이/JKS', '수퍼/NNG', '맨/NNG', '을/JKO', '증오/NNG', '하/XSV', '는/ETD', '이유/NNG', '가/JKS', '너무/MAG', '억지/NNG', '야/JX', ',,,,/SW', '스토리/NNG', '개판/NNG', '...../SW', '앞/NNG', '부분/NNG', '은/JX', '1/NR', '시간/NNM', '넘/VV', '게/ECD', '지루/XR', '하/XSA', '고/ECE', ',,,,,,/SW', '액션/NNG', '은/JX', '뒷/NNG', '부분/NNG', '에/JKM', '조금/NNG', '......../SW', 'dc/OL', ',/SP', '마블/NNG', '어느/MDT', '정도/NNG', '알/VV', '는/ETD', '사람/NNG', '은/JX', '길/VA', 'ㄴ/ETD', '서사/NNG', '를/JKO', '즐기/VV', '면서/ECE', '보/VV', 'ㄹ/ETD', '수/NNB', '있/VV', '겠/EPT', '으나/ECE', ',/SP', '당장/MAG', '즐거움/NNG', '을/JKO', '찾/VV', '는/ETD', '관객/NNG', '에/JKM', '겐/UN', '딱/MAG', '외면/NNG', '받/VV', '기/ETN', '좋/VA', '은/ETD', '영화/NNG', '이/VCP', '었/EPT', '음/ETN', './SF', '맨/NNG', '오브/NNG', '스틸/NNG', '>/SS', '돈/NNG', '오브/NNG', '저스/UN', '티스/NNG', ',/SP', '배트/NNG', '맨/NNG', ',/SP', '원/NNM', '드/VV', '어/ECS', '우먼/NNG', '의/JKG', '수트/NNG', '와/JKM', '비쥬얼/NNG', '은/JX', '괜찮/VA', '음/ETN', './SF', '기대/NNG', '가/JKS', '크/VA', 'ㄴ/ETD', '만큼/NNB', '실망/NNG', '이/JKS', '크/VA', 'ㄴ/ETD', '법/NNG', './SF', '초반/NNG', '조드/UN', '와/JKM', '슈퍼맨/NNG', '이/JKS', '싸우/VV', '는/ETD', '상황/NNG', '과/JKM', '마지막/NNG', '빌/VV', 'ㄹ/ETD', '런/NNG', '이/JKS', '에너지/NNG', '방출/NNG', '하/XSV', '는/ETD', '순간/NNG', '빼/VV', '고는/ECE', '모든/MDT', '과정/NNG', '이/JKS', '지루/XR', '하/XSV', '었/EPT', '다/EFN', './SF', '뜬금/NNG', '없이/MAG', '화해/NNG', '하/XSV', '는/ETD', '것/NNB', '도/JX', '그렇지만/MAC', '속편/NNG', '을/JKO', '위하/VV', 'ㄴ/ETD', '다른/MDT', '히어로/NNG', '들/XSN', '의/JKG', '떡밥/NNG', '을/JKO', '푸/VV', '는/ETD', '것/NNB', '이/JKS', '어/VV', '어/ECS', '베/VV', 'ㄴ/ETD', '져스/UN', '시리즈/NNG', '에/JKM', '비하/VV', '어/ECS', '허술/XR', '하/XSV', '어/ECS', '보이/VV', '기/ETN', '도/JX', '하/VV', '었/EPT', '고/ECE', '너무멎찐후/UN', '니/JC', '?/SF', '머/NP', '나/JX', '좀/MAG', '알/VV', '고/ECE', '나/NP', '말씀/NNG', '하/XSV', '시/EPH', '지요/EFN', '^^/EMO', '쿠키/NNG', '영상/NNG', '에/JKM', '징징거리/VV', '다니요/EFN', '^^/EMO', '밑/NNG', '알바/NNG', '들이/XSN', '쿠키/NNG', '엔딩/NNG', '영상/NNG', '이/JKS', '있다/MAG', '고하/VV', '어서/ECD', '한말/NNG', '이/VCP', '고/ECE', '그리하/VV', '여도/ECD', '님/NNG', '보다/JKM', '는/JX', 'DC/OL', '역사관/NNG', '에/JKM', '대하/VV', '어서/ECD', '는/JX', '잘/MAG', '알/VV', '거든요/EFN', '^^/EMO', '영화/NNG', '의/JKG', '스포일러/NNG', '도/JX', '중요/NNG', '하/XSV', '지만/ECE', '3/NR', '년/NNM', '동안/NNG', '아무말/NNG', '없/VA', '기/ETN', '기다리/VV', '어/ECS', '오/VV', 'ㄴ/ETD', '팬/NNG', '으로써/JKM', '무/XPN', '자비/NNG', '하/XSV', '게/ECD', '끼우/VV', '어/ECS', '맞추기/NNG', '로/JKM', '졸작/NNG', '이/JKC', '되/VV', '었/EPT', '는데/ECD', '../SW', '풋/XPN', '님/NNG', '수준/NNG', '알/VV', 'ㄹ/ETD', '만하/VXA', '네요/EFN', '그닥/MAG', 'ㅠㅠ/EMO', '내용/NNG', '의/JKG', '깊이/NNG', '나/JC', '철학/NNG', '이/JKS', '마블/NNG', '영화/NNG', '에/JKM', '비하/VV', '여/ECS', '드/VV', '어/ECS', '있/VXV', '을지/ECS', '는/JX', '모르/VV', '지만/ECE', '.../SE', '어쨋든/MAG', '관객/NNG', '들/XSN', '은/JX', '오락/NNG', '영화/NNG', '를/JKO', '관람/NNG', '하/XSV', '러/ECD', '갈/VV', '는/ETD', '것/NNB', '이/VCP', '니/ECD', '.../SE', '당분간/MAG', '마블/NNG', '이/JKS', '승리/NNG', '하/XSV', '겠/EPT', '구나/EFI', '.../SE', '싶/VXA', '습니다/EFN', './SF', '호불호/NNG', '꽤나/MAG', '갈리/VV', 'ㄹ/ETD', '법/NNG', '하/XSV', 'ㄴ/ETD', '배트/NNG', '맨/NNG', '과/JKM', '슈퍼맨/NNG', '의/JKG', '2/NR', '억/NR', '5,000/NR', '만/NR', '불/NNG', '(/SS', '추정/NNG', ')/SS', '짜/VV', '리/EFQ', '싸움질/NNG', '맨/NNG', '오브/NNG', '스틸/NNG', '을/JKO', '재미있/VA', '게/ECD', '보/VV', 'ㄴ/ETD', '사람/NNG', '으로써/JKM', '이/MDT', '영화/NNG', '는/JX', '비교/NNG', '대상/NNG', '도/JX', '안됨/NNG', '억지/NNG', '전개/NNG', '에/JKM', '액션/NNG', '신/NNG', '도/JX', '그닥/MAG', '이/VCP', '고/ECE', '기억/NNG', '에/JKM', '남/VV', '는/ETD', '건/NNM', '원/NNM', '드/VV', '어/ECS', '우먼/NNG', '뿐/JX', '.../SE', '40/NR', '분/NNB', '액션/NNG', '씬/NNG', '을/JKO', '위하/VV', '어/ECS', '말/NNG', '도/JX', '안되/VA', '는/ETD', '내용/NNG', '의/JKG', '1/NR', '시간/NNG', '40/NR', '분/NNM', '을/JKO', '참/VV', '아야/ECD', '하/VV', 'ㅁ/ETN', '그나마/MAG', '크/VA', 'ㄴ/ETD', '화면/NNG', '으로/JKM', '보/VV', '았/EPT', '기에/ECD', '덜/MAG', '아니/VV', 'ㄴ/ETD', '?/SF', '영화/NNG', './SF', '만약/NNG', '다운/NNG', '받/VV', '아서/ECD', '보/VV', 'ㄴ다면/ECE', '정말/MAG', '아니/VV', 'ㄴ/ETD', '영화/NNG', '가/JKC', '되/VV', 'ㄹ/ETD', '것/NNB', '이/VCP', '다/EFN', './SF', '-/SW', '참고/NNG', '로/JKM', '새벽/NNG', '에/JKM', '피/NNG', '로/JKM', '풀/VV', '려고/ECD', '가/VV', '었/EPT', '다가/ECD', '피로/NNG', '만/JX', '쌓이/VV', '어서/ECD', '허무/NNG', '하/XSV', '게/ECD', '귀가/NNG', '하/XSV', '였/EPT', '다/EFN', './SF', '-/SW', '맨/NNG', '오브/NNG', '스틸/NNG', '이/JKS', '2/NR', '배/NNG', '낳/VV', '다/EFN', './SF', '10/NR', '년/NNM', '의/JKG', '고난/NNG', '을/JKO', '겪/VV', '고/ECE', '도/JX', '정신/NNG', '못/MAG', '차리/VV', 'ㄴ/ETD', '영화/NNG', './SF', '마블/NNG', '의/JKG', '프로/NNG', '듀스/NNG', '를/JKO', '따르/VV', '아/ECS', '할려/UN', '고/JC', '하/VV', '었/EPT', '지만/ECE', '정작/NNG', '디시/NNG', '원작/NNG', '이/JKS', '가지/VV', 'ㄴ/ETD', '매력/NNG', '이나/JC', '흥미/NNG', '는/JX', '반감/NNG', '시키/XSV', '고/ECE', '결국/NNG', '비빔밥/NNG', '먹/NNG', '을리/VV', '어/ECS', '다/MAG', '보리밥/NNG', '에/JKM', '돈까스/NNG', '먹/VV', '은/ETD', '느낌/NNG', '이제/MAG', '돈/NNG', '시간/NNG', '낭비/NNG', '하지/NNG', '말자/NNG', '만두/NNG', '괴물/NNG', '보/VV', 'ㄹ라고/EFQ', '2/NR', '시간/NNG', '기다리/VV', 'ㄴ/ETD', '것/NNB', '이/JKS', '마/NNG', '징/NNG', '가/NNG', '액션/NNG', '주름/NNG', '수퍼/NNG', '맨/NNG', '뻣뻣/XR', '배트/NNG', '맨/NNG', '뜬금/NNG', '원/NNM', '드/VV', '어/ECS', '우먼/NNG', '마/NNG', '자막/NNG', '30/NR', '분/NNM', '을/JKO', '위하/VV', '어/ECS', '너무/MAG', '길/VA', 'ㄴ/ETD', '전개/NNG', '늘어지/VV', '고/ECE', '끊어지/VV', '고/ECE', '.../SE', '영화/NNG', '보다/JKM', '나가/VV', '고/ECE', '싶/VXA', '다는/ETD', '생각/NNG', '두/MDN', '번/NNB', '이나/JX', '하/VV', '였/EPT', '다/ECS', '.../SE', '너무/MAG', '급하/VA', 'ㄴ/ETD', '마음/NNG', '이/JKS', '보이/VV', 'ㄴ다/EFN', './SF', '마블/NNG', '은/JX', '마블/NNG', '답/VA', '게/ECD', '디/NNG', '씨/NNB', '는/JX', '디/NNG', '씨/NNG', '답/XSA', '게/ECD', '갓/MAG', '으/UN', '이/VCP', '면/ECE', '좋/VA', '겠/EPT', '다/ECS', '.../SE', '원/NNM', '드/VV', '어/ECS', '우먼/NNG', '사랑/NNG', '하/XSV', '어요/EFN', '~/SO', '.../SE', '진심/NNG', '보시/VV', '면/ECE', '후회/NNG', '하/XSV', '시/EPH', 'ㄹ/ETD', '거/NNB', '에/JKM', '요/JX', '영상미/NNG', '좋/VA', '다/ECS', ',/SP', '액션/NNG', '괜찮/VA', '은/ETD', '편/NNB', ',/SP', '원/NNM', '드/VV', '어/ECS', '우먼/NNG', '배트/NNG', '맨/NNG', '캐릭터/NNG', '좋/VA', '은/ETD', '편/NNB', ',/SP', '초반/NNG', '까지/JX', '꽤/MAG', '괜찮/VA', '다/EFN', './SF', '근데/MAG', '그/VV', '게/ECD', '전부/MAG', '다/MAG', '.../SE', '원작/NNG', '을/JKO', '알/VV', '든/ECE', '모르/VV', '든/ECE', '상관없이/MAG', '영화/NNG', '가/JKS', '워낙/MAG', '엉망/NNG', '이/VCP', '다/ECS', '..../SW', '뭔/MDT', '가/VV', '아/ECS', '야심/NNG', '차/VV', '게/ECD', '만들/VV', '었/EPT', '는데/ECD', ',/SP', '뚜껑/NNG', '열/VV', '니/ECD', '총체적/NNG', '난국/NNG', '......./SW', '트랜스포머/NNG', '4/NR', '처럼/JKM', '뇌/NNG', '비우/VV', '고/ECE', '뻥뻥/MAG', '터지/VV', '는/ETD', '것/NNB', '이/JKS', '재미/NNG', '라고/JX', '생각/NNG', '하/XSV', '면/ECE', '보/VXV', '아도/ECD', '되/VV', '지만/ECE', '그리하/VV', '여도/ECD', '재미/NNG', '장담/NNG', '못/NNG', '하/XSV', 'ㄹ/ETD', '지경/NNB', './SF', '아/VV', '아/ECS', '나/NP', '이렇/VA', 'ㄴ/ETD', '허/NNG', '접/NNM', './SF', '졸작/NNG', './SF', '망/NNG', '작/NNG', './SF', '졸리/VV', '어/ECS', '디지/VV', '는/ETD', '줄/NNG']\n"
     ]
    }
   ],
   "source": [
    "print(bigdoc[0])"
   ]
  },
  {
   "cell_type": "code",
   "execution_count": 19,
   "metadata": {},
   "outputs": [
    {
     "output_type": "stream",
     "name": "stdout",
     "text": [
      "{0: Counter({'./SF': 51, 'ㄴ/ETD': 42, '하/XSV': 39, '고/ECE': 27, '의/JKG': 23, '는/ETD': 23, '어/ECS': 23, '이/JKS': 23, '영화/NNG': 22, '이/VCP': 22, '맨/NNG': 20, '었/EPT': 20, '다/EFN': 19, '을/JKO': 18, 'ㄹ/ETD': 17, ',/SP': 17, '에/JKM': 16, '게/ECD': 14, '은/JX': 14, '.../SE': 14, '배트/NNG': 12, '도/JX': 12, '보/VV': 12, '슈퍼맨/NNG': 10, '는/JX': 10, '드/VV': 10, '것/NNB': 10, '액션/NNG': 10, '원/NNM': 8, '우먼/NNG': 8, '하/VV': 8, '지만/ECE': 8, '로/JKM': 8, '다/ECS': 8, '마블/NNG': 8, 'ㅁ/ETN': 7, '가/JKS': 7, '았/EPT': 7, '면/ECE': 7, '하/XSA': 7, '오브/NNG': 7, '없/VA': 6, '거/NNB': 6, '알/VV': 6, '가/VV': 6, '를/JKO': 6, '스틸/NNG': 6, '과/JKM': 5, '지/ECD': 5, '만/JX': 5, '나오/VV': 5, '아서/ECD': 5, '들/XSN': 5, 'DC/OL': 5, '지루/XR': 5, '../SW': 4, '??/SW': 4, '기대/NNG': 4, 'ㅂ니다/EFN': 4, '잭/NNG': 4, '나/NP': 4, '더/EPT': 4, '이/NNG': 4, '스토리/NNG': 4, '어서/ECD': 4, '겠/EPT': 4, '전개/NNG': 4, '울/VV': 4, '으로/JKM': 4, '까지/JX': 4, '?/SF': 4, '아/ECS': 4, '되/VV': 4, '니/ECD': 4, '크/VA': 4, '좋/VA': 4, '은/ETD': 4, '와/JKM': 3, '1/NR': 3, '분/NNM': 3, '더/MAG': 3, '보시/VV': 3, '3/NR': 3, '년/NNM': 3, '기다리/VV': 3, '슬/VV': 3, '나/ECE': 3, '아니/VV': 3, '정말/MAG': 3, '주/VXV': 3, '캐릭터/NNG': 3, '시/EPH': 3, '을/ETD': 3, '알바/NNG': 3, '수/NNB': 3, '이제/MAG': 3, '같/VA': 3, '만들/VV': 3, '관객/NNG': 3, '올리/VV': 3, '돈/NNG': 3, '내용/NNG': 3, '차라리/MAG': 3, '받/VV': 3, '보/VXV': 3, '보다/JKM': 3, '놀라/VV': 3, '싶/VXA': 3, '음/ETN': 3, '~/SO': 3, '수퍼/NNG': 3, '는데/ECD': 3, '너무/MAG': 3, '기/ETN': 3, '괜찮/VA': 3, '위하/VV': 3, '^^/EMO': 3, '2/NR': 3, '시간/NNG': 3, '졸/VV': 2, '화해/NNG': 2, '뭐/NP': 2, '여/NNG': 2, '캐릭/NNG': 2, '니/JC': 2, '다크/UN': 2, '나이트/NNG': 2, '먹/VV': 2, '냐/EFQ': 2, '야/JX': 2, '이렇/VA': 2, '만약/NNG': 2, '다면/ECE': 2, '개/NNG': 2, '망/NNG': 2, '그나마/MAG': 2, '어느/MDT': 2, '정도/NNG': 2, '실망/NNG': 2, '분/NNB': 2, '많/VA': 2, '오락/NNG': 2, '여기/NP': 2, '네/EFN': 2, 'ㅋㅋㅋ/EMO': 2, '후회/NNG': 2, '유치/NNG': 2, '끝/NNG': 2, '던/EFQ': 2, '스타워즈/NNG': 2, '안됨/NNG': 2, '로/NNG': 2, 'ㅉ/UN': 2, '유/NNG': 2, '튜브/NNG': 2, '에서/JKM': 2, 'ㄴ다/EFN': 2, '서사/NNG': 2, '죽/VV': 2, '짜/VV': 2, '만큼/NNB': 2, '작/NNG': 2, '아야/ECD': 2, '영화관/NNG': 2, '나/JX': 2, '면서/ECE': 2, '흥행/NNG': 2, '있/VXV': 2, '근성/NNG': 2, '박살내/VV': 2, '대하/VV': 2, '그러/VV': 2, '마사/NNG': 2, '이/JKC': 2, '맨/MDT': 2, '멈추/VV': 2, '다는/ETD': 2, '결국/NNG': 2, '모든/MDT': 2, '터지/VV': 2, '히어로/NNG': 2, '있/VV': 2, 'ㄴ데/ECE': 2, '잘/MAG': 2, '찍/VV': 2, '감독/NNG': 2, '철학/NNG': 2, '개연성/NNG': 2, '동안/NNG': 2, ';;/SW': 2, '어/ECD': 2, '...../SW': 2, '못/MAG': 2, '풀/VV': 2, '갈/VV': 2, '처럼/JKM': 2, '..../SW': 2, ',,,,,,/SW': 2, '억지/NNG': 2, '부분/NNG': 2, '사람/NNG': 2, '길/VA': 2, '법/NNG': 2, '초반/NNG': 2, '뜬금/NNG': 2, '비하/VV': 2, '보이/VV': 2, '쿠키/NNG': 2, '영상/NNG': 2, '그리하/VV': 2, '여도/ECD': 2, '님/NNG': 2, '으로써/JKM': 2, '졸작/NNG': 2, '그닥/MAG': 2, '모르/VV': 2, '40/NR': 2, '-/SW': 2, '였/EPT': 2, '원작/NNG': 2, '다/MAG': 2, '마/NNG': 2, '생각/NNG': 2, '디/NNG': 2, '편/NNB': 2, '든/ECE': 2, '재미/NNG': 2, '려요/ECD': 1, '갑작스럽/VA': 1, '루이스/NNG': 1, '또/MAG': 1, '민폐/NNG': 1, '애/NNG': 1, '리턴즈/UN': 1, '두/VV': 1, '스/VV': 1, '데/EFN': 1, '이의/NNG': 1, '짬뽕/NNG': 1, '생뚱맞/VA': 1, '나타나/VV': 1, '총/MDT': 1, '미만/NNG': 1, '출연/NNG': 1, '아쿠아/NNG': 1, '한명/NNG': 1, '마시/VV': 1, '어야/ECD': 1, '이렇게/MAG': 1, '날리/VV': 1, '이놈아/NP': 1, '아아/MAG': 1, '원하/VV': 1, '이랑/JC': 1, '무게/NNG': 1, '중심/NNG': 1, '잡/VV': 1, '아/ECD': 1, '악당/NNG': 1, '영/MAG': 1, '보잘것/NNG': 1, '듯/NNB': 1, '안/NNG': 1, '그냥/MAG': 1, '히/NNG': 1, '어로/NNG': 1, '물/NNG': 1, '볼만/NNG': 1, '18/NR': 1, '새끼/NNG': 1, 'ㄹ라/ECD': 1, '억울/XR': 1, '당/NNG': 1, '대박/NNG': 1, '많이/MAG': 1, '함/NNG': 1, '계속/MAG': 1, '밀리/VV': 1, '아직/MAG': 1, '안/MAG': 1, '더니/ECD': 1, '시사회/NNG': 1, '티켓/NNG': 1, '팝콘/NNG': 1, '콜라/NNG': 1, '나도/NNG': 1, '소문/NNG': 1, '무성/NNG': 1, '모양/NNG': 1, '자/NNB': 1, '때/NNG': 1, '신중/NNG': 1, '그리/VV': 1, '호/NNB': 1, '갱/NNG': 1, '봐서/VV': 1, '정말/NNG': 1, '트/VV': 1, '토마토/NNG': 1, '평점/NNG': 1, '지수/NNG': 1, '왜/MAG': 1, '그렇/VA': 1, '지/NNB': 1, '제대/NNG': 1, '라/NNG': 1, '극장/NNG': 1, '말/VV': 1, '하면/NNP': 1, '이/NR': 1, '번/NNM': 1, '아깝/VV': 1, '미국/NNP': 1, '의회/NNG': 1, '등장/NNG': 1, '세상/NNG': 1, '진지/NNG': 1, '와/JC': 1, '분위기/NNG': 1, '침울/XR': 1, '게임/NNG': 1, '안되/VV': 1, '그/NP': 1, '만큼/NNG': 1, '짧/VA': 1, '매우/MAG': 1, '강렬/XR': 1, '돈옵저/UN': 1, '멸망/NNG': 1, '진짜/MAG': 1, '나요/EFQ': 1, '무슨/MDT': 1, 'ㄴ지/ECD': 1, '저기/NP': 1, '서/JKM': 1, '집기/NNG': 1, '잡탕/NNG': 1, ',,,,,,,,,,/SW': 1, '깨어나/VV': 1, '포스/NNG': 1, '잇/VV': 1, '보다/MAG': 1, '저조/NNG': 1, '뒤통수/NNG': 1, '덜/VV': 1, '바닥/NNG': 1, '영원히/MAG': 1, '떠나/VV': 1, '매일/MAG': 1, '이딴/MDT': 1, '으니/ECD': 1, '니들/NNG': 1, '그지/NNG': 1, '노예/NNG': 1, '식민/NNG': 1, '사관/NNG': 1, '말/VXV': 1, '볼려/UN': 1, '다운로드/NNG': 1, '추천/NNG': 1, '멀쩡/XR': 1, '하나/NNG': 1, '그동안/NNG': 1, '추억/NNG': 1, '싶/VXV': 1, '으면/ECD': 1, '자/ECE': 1, '힘/NNG': 1, '책임/NNG': 1, '인하/VV': 1, '인간적/NNG': 1, '갈등/NNG': 1, '사이코/NNG': 1, '적이/VV': 1, '복수심/NNG': 1, '시나리오/NNG': 1, '한참/NNG': 1, '약/NNG': 1, '도/NNG': 1, '그럭저럭/MAG': 1, '이해/NNG': 1, 'ㄴ다만/ECE': 1, '드립/NNG': 1, '지/XSA': 1, '이번/NNG': 1, '편의/NNG': 1, '가장/MAG': 1, '핵심/NNG': 1, 'vs/OL': 1, '싸움/NNG': 1, '손발/NNG': 1, '오글거리/VV': 1, '않/VXV': 1, '는/EPT': 1, '위대/NNG': 1, '놀/VV': 1, '란/ETD': 1, '의/NNG': 1, '업적/NNG': 1, '마저/JX': 1, '이후/NNG': 1, '작품/NNG': 1, '에/VV': 1, '맡기/VV': 1, '지금/NNG': 1, '과/JC': 1, '박/NNG': 1, '전쟁/NNG': 1, '터/NNB': 1, '슈나이더/NNG': 1, '당신/NP': 1, '이/NNB': 1, '아니/VCN': 1, '뿐/NNB': 1, '배제/NNG': 1, '어/EFN': 1, '야/NNB': 1, '건만/ECE': 1, '따라하/VV': 1, '망하/VV': 1, '부족/NNG': 1, '번역가/NNG': 1, '이상/NNG': 1, '진짜로/MAG': 1, '뛰쳐나가/VV': 1, '우울/NNG': 1, '그/VA': 1, '버리/VXV': 1, '점/NNB': 1, '이름/NNG': 1, '값/NNG': 1, '라/ECD': 1, '불안/NNG': 1, '예감/NNG': 1, '적중/NNG': 1, '못하/VX': 1, '최악/NNG': 1, '라도/ECD': 1, '끝내주/VV': 1, 'ㄴ가/EFQ': 1, '제로/NNG': 1, '리/NNB': 1, '쉐/VV': 1, '고도/NNG': 1, '비만/NNG': 1, '예상/NNG': 1, '대로/JX': 1, '뽕짝/NNG': 1, '그러나/MAC': 1, '니까/ECD': 1, '아야지/EFN': 1, '첫날/NNG': 1, '조조/NNG': 1, '오/VX': 1, '따위/NNB': 1, '증오/NNG': 1, '이유/NNG': 1, ',,,,/SW': 1, '개판/NNG': 1, '앞/NNG': 1, '시간/NNM': 1, '넘/VV': 1, '뒷/NNG': 1, '조금/NNG': 1, '......../SW': 1, 'dc/OL': 1, '즐기/VV': 1, '으나/ECE': 1, '당장/MAG': 1, '즐거움/NNG': 1, '찾/VV': 1, '겐/UN': 1, '딱/MAG': 1, '외면/NNG': 1, '>/SS': 1, '저스/UN': 1, '티스/NNG': 1, '수트/NNG': 1, '비쥬얼/NNG': 1, '조드/UN': 1, '싸우/VV': 1, '상황/NNG': 1, '마지막/NNG': 1, '빌/VV': 1, '런/NNG': 1, '에너지/NNG': 1, '방출/NNG': 1, '순간/NNG': 1, '빼/VV': 1, '고는/ECE': 1, '과정/NNG': 1, '없이/MAG': 1, '그렇지만/MAC': 1, '속편/NNG': 1, '다른/MDT': 1, '떡밥/NNG': 1, '푸/VV': 1, '어/VV': 1, '베/VV': 1, '져스/UN': 1, '시리즈/NNG': 1, '허술/XR': 1, '너무멎찐후/UN': 1, '머/NP': 1, '좀/MAG': 1, '말씀/NNG': 1, '지요/EFN': 1, '징징거리/VV': 1, '다니요/EFN': 1, '밑/NNG': 1, '들이/XSN': 1, '엔딩/NNG': 1, '있다/MAG': 1, '고하/VV': 1, '한말/NNG': 1, '역사관/NNG': 1, '거든요/EFN': 1, '스포일러/NNG': 1, '중요/NNG': 1, '아무말/NNG': 1, '오/VV': 1, '팬/NNG': 1, '무/XPN': 1, '자비/NNG': 1, '끼우/VV': 1, '맞추기/NNG': 1, '풋/XPN': 1, '수준/NNG': 1, '만하/VXA': 1, '네요/EFN': 1, 'ㅠㅠ/EMO': 1, '깊이/NNG': 1, '나/JC': 1, '여/ECS': 1, '을지/ECS': 1, '어쨋든/MAG': 1, '관람/NNG': 1, '러/ECD': 1, '당분간/MAG': 1, '승리/NNG': 1, '구나/EFI': 1, '습니다/EFN': 1, '호불호/NNG': 1, '꽤나/MAG': 1, '갈리/VV': 1, '억/NR': 1, '5,000/NR': 1, '만/NR': 1, '불/NNG': 1, '(/SS': 1, '추정/NNG': 1, ')/SS': 1, '리/EFQ': 1, '싸움질/NNG': 1, '재미있/VA': 1, '이/MDT': 1, '비교/NNG': 1, '대상/NNG': 1, '신/NNG': 1, '기억/NNG': 1, '남/VV': 1, '건/NNM': 1, '뿐/JX': 1, '씬/NNG': 1, '말/NNG': 1, '안되/VA': 1, '참/VV': 1, '화면/NNG': 1, '기에/ECD': 1, '덜/MAG': 1, '다운/NNG': 1, 'ㄴ다면/ECE': 1, '가/JKC': 1, '참고/NNG': 1, '새벽/NNG': 1, '피/NNG': 1, '려고/ECD': 1, '다가/ECD': 1, '피로/NNG': 1, '쌓이/VV': 1, '허무/NNG': 1, '귀가/NNG': 1, '배/NNG': 1, '낳/VV': 1, '10/NR': 1, '고난/NNG': 1, '겪/VV': 1, '정신/NNG': 1, '차리/VV': 1, '프로/NNG': 1, '듀스/NNG': 1, '따르/VV': 1, '할려/UN': 1, '고/JC': 1, '정작/NNG': 1, '디시/NNG': 1, '가지/VV': 1, '매력/NNG': 1, '이나/JC': 1, '흥미/NNG': 1, '반감/NNG': 1, '시키/XSV': 1, '비빔밥/NNG': 1, '먹/NNG': 1, '을리/VV': 1, '보리밥/NNG': 1, '돈까스/NNG': 1, '느낌/NNG': 1, '낭비/NNG': 1, '하지/NNG': 1, '말자/NNG': 1, '만두/NNG': 1, '괴물/NNG': 1, 'ㄹ라고/EFQ': 1, '징/NNG': 1, '가/NNG': 1, '주름/NNG': 1, '뻣뻣/XR': 1, '자막/NNG': 1, '30/NR': 1, '늘어지/VV': 1, '끊어지/VV': 1, '나가/VV': 1, '두/MDN': 1, '번/NNB': 1, '이나/JX': 1, '급하/VA': 1, '마음/NNG': 1, '답/VA': 1, '씨/NNB': 1, '씨/NNG': 1, '답/XSA': 1, '갓/MAG': 1, '으/UN': 1, '사랑/NNG': 1, '어요/EFN': 1, '진심/NNG': 1, '요/JX': 1, '영상미/NNG': 1, '꽤/MAG': 1, '근데/MAG': 1, '그/VV': 1, '전부/MAG': 1, '상관없이/MAG': 1, '워낙/MAG': 1, '엉망/NNG': 1, '뭔/MDT': 1, '야심/NNG': 1, '차/VV': 1, '뚜껑/NNG': 1, '열/VV': 1, '총체적/NNG': 1, '난국/NNG': 1, '......./SW': 1, '트랜스포머/NNG': 1, '4/NR': 1, '뇌/NNG': 1, '비우/VV': 1, '뻥뻥/MAG': 1, '라고/JX': 1, '아도/ECD': 1, '장담/NNG': 1, '못/NNG': 1, '지경/NNB': 1, '아/VV': 1, '허/NNG': 1, '접/NNM': 1, '졸리/VV': 1, '디지/VV': 1, '줄/NNG': 1}), 1: Counter({'이/VCP': 31, 'ㄴ/ETD': 29, './SF': 26, '하/XSV': 26, '의/JKG': 24, '고/ECE': 23, '보/VV': 21, '이/JKS': 20, '영화/NNG': 19, '는/JX': 16, '../SW': 16, '어/ECS': 15, 'ㄹ/ETD': 15, '는/ETD': 15, '다/EFN': 15, '았/EPT': 14, '원/NNM': 13, '있/VV': 13, '드/VV': 13, '를/JKO': 12, '었/EPT': 12, '우먼/NNG': 12, '도/JX': 11, '에/JKM': 10, '!/SF': 10, '마블/NNG': 10, '맨/NNG': 10, 'ㅁ/ETN': 10, 'DC/OL': 9, '을/JKO': 9, ',/SP': 9, '면/ECE': 8, '은/JX': 8, '지/ECD': 8, '것/NNB': 8, '하/VV': 8, '기대/NNG': 8, '는데/ECD': 8, '배트/NNG': 8, '하/XSA': 8, '좋/VA': 7, '로/JKM': 7, '이/MDT': 7, '음/ETN': 7, '분위기/NNG': 7, '게/ECD': 7, '잼/NNG': 7, '잘/MAG': 6, '보다/JKM': 6, '가/JKS': 6, '않/VXV': 6, '들/XSN': 6, '다/ECS': 6, '수/NNB': 6, '은/ETD': 6, '재밌/VA': 5, '또/MAG': 5, '가/VV': 5, '아/ECS': 5, '없/VA': 5, '진짜/MAG': 5, '안/MAG': 5, '으로/JKM': 5, '슈퍼맨/NNG': 5, '만/JX': 5, '짱/NNG': 5, '매력/NNG': 4, 'ㄴ다/ECS': 4, '지만/ECE': 4, '정말/MAG': 4, '액션/NNG': 4, '어서/ECD': 4, '아서/ECD': 4, '2/NR': 4, '보/VXV': 4, '</SS': 4, '>/SS': 4, '시작/NNG': 4, '히/NNG': 4, '어로/NNG': 4, '나/ECE': 4, '많/VA': 4, '나/NP': 3, '어요/EFN': 3, '을/ETD': 3, '거/NNB': 3, '?/SF': 3, '과/JKM': 3, 'ㅎㅎ/EMO': 3, '냐/EFQ': 3, '재미/NNG': 3, '사람/NNG': 3, '생각/NNG': 3, '좀/MAG': 3, '왜/MAG': 3, '네요/EFN': 3, '그냥/MAG': 3, '싸우/VV': 3, '더/MAG': 3, '배우/NNG': 3, '물/NNG': 3, '좋아하/VV': 3, '-/SW': 3, '그/MDT': 3, '~/SO': 3, '겠/EPT': 3, '스토리/NNG': 3, '기다리/VV': 3, '모르/VV': 3, '보여주/VV': 3, '아요/EFN': 2, '조조/NNG': 2, '아주/MAG': 2, 'ㅋㅋ/EMO': 2, '대박/NNG': 2, '트/VV': 2, '짐/NNG': 2, \"'/SS\": 2, '가/NNG': 2, '다면/ECE': 2, '하다/NNP': 2, '부분/NNG': 2, '정도/NNG': 2, '습니다/EFN': 2, '요/JX': 2, '다른/MDT': 2, '러/ECD': 2, '야지/EFN': 2, '아/VV': 2, '스포/UN': 2, '마라/NNG': 2, '개봉/NNG': 2, '낳/VV': 2, '넘/NNB': 2, '재미있/VA': 2, '핵/NNG': 2, '등장/NNG': 2, 'ㄷ/NNG': 2, '대결/NNG': 2, '네/EFN': 2, '오/VX': 2, 'ㅂ니다/EFN': 2, '~~/SW': 2, '저/NP': 2, '전체적/NNG': 2, '다고/EFN': 2, '플래시/NNG': 2, '시간/NNG': 2, '라는/ETD': 2, 'D/OL': 2, '니/ECD': 2, '되/VV': 2, '후/NNG': 2, '밖에/JX': 2, '오래/MAG': 2, '전/NNG': 2, '!!/SW': 2, '오늘/NNG': 2, '내용/NNG': 2, '괜찮/VA': 2, '비교/NNG': 2, '고유/NNG': 2, '대/NNG': 2, '저스/UN': 2, '티스/NNG': 2, '리그/NNG': 2, '의/NNG': 2, '에서/JKM': 2, '안하/VV': 2, '나/VV': 2, '완전/NNG': 2, '임/NNG': 2, '대/XPN': 2, '맨/MDT': 2, '적/XSN': 2, '가볍/VA': 2, '묵직/XR': 2, '만족/NNG': 2, '기/ETN': 2, '주/VXV': 2, '크/VA': 2, '취향/NNG': 2, '안/NNG': 2, '이해/NNG': 2, '만들/VV': 2, '초반/NNG': 2, '는지/ECS': 2, '수퍼/NNG': 2, '예상/NNG': 2, '허구/NNG': 2, '1/NR': 2, '보람/NNG': 2, '터/NNG': 2, '캐릭/NNG': 2, '다/MAG': 2, '병/NNG': 2, '맛/NNG': 2, '점/NNM': 2, '너무/MAG': 2, '너무너무/MAG': 1, '~~~~~~~~~~/SW': 1, '봤슴/UN': 1, 'MOS/OL': 1, '괜츈했/UN': 1, '덥/VV': 1, '엔딩/NNG': 1, '크레딧/UN': 1, '보고/NNG': 1, '개/VV': 1, '돗/UN': 1, '폭풍/NNG': 1, '검색/NNG': 1, '암/NNG': 1, '행보/NNG': 1, '이번/NNG': 1, '편/NNG': 1, '꽤나/MAG': 1, '준수/NNG': 1, '어쨌건/MAG': 1, '다음/NNG': 1, '기대되/VV': 1, '니깐/ECD': 1, '약간/MAG': 1, '씩/MAG': 1, '연계/NNG': 1, '안되/VA': 1, '평점/NNG': 1, '받/VV': 1, '아니/VCN': 1, '같/VA': 1, '고요/EFN': 1, '후회/NNG': 1, '으시/EPH': 1, '깔/VV': 1, 'ㄴ가/EFQ': 1, '성공적/NNG': 1, '전초전/NNG': 1, '스포하/UN': 1, '새끼/NNG': 1, '부모/NNG': 1, '질/NNG': 1, '없으/UN': 1, '평가/NNG': 1, '더라도/ECD': 1, '비/XPN': 1, '양심적/NNG': 1, '이내/NNG': 1, '니들/NNG': 1, '끝/NNG': 1, '말해/NNG': 1, '라/EFN': 1, '첫/MDT': 1, '봄/NNG': 1, 'ㅜ/UN': 1, 'ㅠ/UN': 1, '이상/NNG': 1, '이리/NNG': 1, '까/VV': 1, '거지/NNG': 1, '폭탄/NNG': 1, '급/NNG': 1, '씬/NNG': 1, '오/NNG': 1, '지구/NNG': 1, '세기/NNG': 1, '만큼/NNG': 1, '시원시원/MAG': 1, '어둡/VV': 1, '좋/VV': 1, '아라/EFO': 1, '전/MDT': 1, '더욱더/MAG': 1, '어둡/VA': 1, '침울/NNG': 1, '암울/NNG': 1, '히어로/NNG': 1, '나쁘/VA': 1, '지/EFN': 1, '되/XSV': 1, '여행/NNG': 1, '오/VV': 1, '에게/JKM': 1, '루이스/NNG': 1, '레인/NNG': 1, '열쇠/NNG': 1, '떡밥/NNG': 1, '뿌리/VV': 1, '던데/ECD': 1, '그거/NP': 1, '보고/JKM': 1, '전율/NNG': 1, '3/NR': 1, '걍/MAG': 1, '충분/XR': 1, '듯/NNB': 1, '끝나/VV': 1, '쿠키/NNG': 1, '영상/NNG': 1, '나오/VV': 1, '나가/VV': 1, '설정/NNG': 1, '상/XSN': 1, '달리/VV': 1, '근/NNG': 1, '둘/NNG': 1, 'ㄴ/JX': 1, '따/VV': 1, '쓰/VV': 1, '재수/NNG': 1, '비주얼/NNG': 1, '역/NNG': 1, '어울리/VV': 1, '.../SE': 1, '이거/NP': 1, '우리/NP': 1, '추억/NNG': 1, '느끼/VV': 1, '잖아/EFN': 1, '........./SW': 1, '간만/NNG': 1, '흥미진진/XR': 1, '오후/NNG': 1, '시/NNM': 1, '50/NR': 1, '분/NNM': 1, '^^/EMO': 1, '사실/NNG': 1, '잣대/NNG': 1, 'ㄴ다는/ETD': 1, '어불성설/NNG': 1, '각자/NNG': 1, '있드/UN': 1, '시/NNG': 1, '배/NNG': 1, '슈/UN': 1, '늘/VV': 1, '오브/NNG': 1, '스틸/NNG': 1, '오히려/MAG': 1, '손색/NNG': 1, '장난/NNG': 1, '아니/VV': 1, '진짜/NNG': 1, '내요/EFN': 1, '덜덜/MAG': 1, '어제/NNG': 1, '판교/NNG': 1, '시사/NNG': 1, '겁/NNG': 1, '남/NNG': 1, '특히/MAG': 1, '최고/NNG': 1, '혼자/NNG': 1, '당/NNG': 1, '하기/NNG': 1, '억울/XR': 1, '별/NNG': 1, '다섯/NR': 1, '개/NNM': 1, '신기/XR': 1, '못/MAG': 1, '만나/VV': 1, '줄/NNB': 1, '알았/VV': 1, '델/VV': 1, '레/NNG': 1, '알/VV': 1, '존/NNP': 1, '쩔/VV': 1, '맥/NNG': 1, '오/NR': 1, '뇌쇄/NNG': 1, '시/VV': 1, '오감/NNG': 1, '서사시/NNG': 1, '라면/ECD': 1, '러닝/NNG': 1, '타임/NNG': 1, '스럽/XSA': 1, '갤가돗/UN': 1, '뜻/NNG': 1, '폭발/NNG': 1, '열연/NNG': 1, '각본/NNG': 1, '따르/VV': 1, '못하/VX': 1, '이야기/NNG': 1, '담/VV': 1, '으려니/EFN': 1, '다급/XR': 1, '해지/VV': 1, '드디어/MAG': 1, '소재/NNG': 1, '볼만/NNG': 1, '글쎄/IC': 1, '라서/ECD': 1, '팬/NNG': 1, '나이/NNG': 1, '더/EPT': 1, 'ㄴ지/ECS': 1, '으나/ECE': 1, '스/VV': 1, '틀/NNG': 1, '충분히/MAG': 1, '성인/NNG': 1, '장점/NNG': 1, '살리/VV': 1, '결론/NNG': 1, '내/VV': 1, '방식/NNG': 1, '어차피/MAG': 1, '만화가/NNG': 1, '원작/NNG': 1, '어야/ECD': 1, '이후/NNG': 1, '시리즈/NNG': 1, '힘/NNG': 1, '는데요/ECD': 1, '재미나/VV': 1, '마/MAG': 1, '누/VV': 1, '님/NNG': 1, '포즈/NNG': 1, '따라하/VV': 1, '면서/ECE': 1, '살짝/MAG': 1, '지루/XR': 1, '말/VV': 1, '고는/ECE': 1, '재미지/VA': 1, 'ㄴ다고/ECE': 1, 'Ps/OL': 1, ':/SP': 1, '!!!!!/SW': 1, '시간/NNM': 1, '반/NNG': 1, '길/VA': 1, '명분/NNG': 1, '설명/NNG': 1, '100/NR': 1, '%/SW': 1, '승리/NNG': 1, '공식/NNG': 1, '뻔히/MAG': 1, '겨우/MAG': 1, '이기/VV': 1, '결과/NNG': 1, '영웅스리즈같/UN': 1, '편/NNM': 1, '화/NNG': 1, '끈/NNG': 1, '한판/NNG': 1, '더하/VV': 1, '스케일/NNG': 1, '이런/MDT': 1, '영화관/NNG': 1, '앞/NNG': 1, '자리/NNG': 1, '추천/NNG': 1, '세면대/NNG': 1, '의문/NNG': 1, '승/NNM': 1, '죽이/VV': 1, '장엄/NNG': 1, '근사/XR': 1, '//SP': 1, '보다/MAG': 1, '빠지/VV': 1, '렉/NNG': 1, '스루/NNG': 1, '부/XPN': 1, '다크/UN': 1, '나이트/NNG': 1, '조커/NNG': 1, '기억나/VV': 1, '연기/NNG': 1, '끝내주/VV': 1, '유치/NNG': 1, '가/JKC': 1, '깊/VA': 1, '철학과/NNG': 1, '볼거리/NNG': 1, '박이/NNG': 1, '처럼/JKM': 1, '대/NNB': 1, '흥미/NNG': 1, '롭/XSA': 1, 'ㄴ데/ECE': 1, '사이/NNG': 1, '고/ECS': 1, '아쿠아/NNG': 1, '까지/JX': 1, '알리/VV': 1, '작품/NNG': 1, '으로써/JKM': 1, '은/JKS': 1, 'ㄴ다/EFN': 1, '잭/NNG': 1, '슬/VV': 1, '더/NNG': 1, '연출력/NNG': 1, '가끔/MAG': 1, '때/NNG': 1, '새롭/VA': 1, '펼쳐지/VV': 1, '신/XPN': 1, '기한/NNG': 1, '감독/NNG': 1, '고로/MAG': 1, '다는/ETD': 1, '의미/NNG': 1, '주/VV': 1, '뭐/NP': 1, '인상적/NNG': 1, '라/ECD': 1, '10/NR': 1, '보고/JKO': 1, '욕하/VV': 1, '제/XPN': 1, '발/NNG': 1, '다가/ECD': 1, '처음/NNG': 1, '정반대/NNG': 1, '아마/MAG': 1, '실망/NNG': 1, '특유/NNG': 1, '암흑/NNG': 1, '뭔/MDT': 1, '메세지/NNG': 1, '전달/NNG': 1, '려는/ETD': 1, '등/NNB': 1, '다만/MAG': 1, '편/NNB': 1, '집어넣/VV': 1, '으려고/ECD': 1, '무리/NNG': 1, '수가/NNG': 1, '보이/VV': 1, '아쉬움/NNG': 1, 'ㅁ에도/ECD': 1, '불구하/VV': 1, '젤/MAG': 1, '!!!!!!!/SW': 1, '매우/MAG': 1, '보/NNG': 1, '앗/IC': 1, '음/IC': 1, '멋있/VA': 1, '굿/NNG': 1, '싶/VXA': 1, '~~~/SW': 1, '꿀/NNG': 1, '주말/NNG': 1, '돌아오/VV': 1, '군/NNG': 1, '찌그러지/VV': 1, '있/VXV': 1, '어/ECD': 1, '멋/NNG': 1, '!!!/SW': 1})}\n"
     ]
    }
   ],
   "source": [
    "counts = {k: Counter(v) for k, v in bigdoc.items()}\n",
    "print(counts)"
   ]
  },
  {
   "cell_type": "code",
   "execution_count": 20,
   "metadata": {},
   "outputs": [],
   "source": [
    "for stmt in counts:\n",
    "    counts[stmt].update(vocabulary)"
   ]
  },
  {
   "cell_type": "code",
   "execution_count": 21,
   "metadata": {},
   "outputs": [],
   "source": [
    "logsum = {stmt: np.log(len(doc) + len(vocabulary))\n",
    "          for stmt, doc in bigdoc.items()}\n",
    "loglikelihood = {\n",
    "ch: {stmt: np.log(cnt[ch]) - logsum[stmt]\n",
    "     for stmt, cnt in counts.items()}\n",
    "for ch in vocabulary\n",
    "}"
   ]
  },
  {
   "cell_type": "code",
   "execution_count": 22,
   "metadata": {},
   "outputs": [
    {
     "output_type": "stream",
     "name": "stdout",
     "text": [
      "{0: -7.861341795599989, 1: -5.990630866359405}\n"
     ]
    }
   ],
   "source": [
    "print(loglikelihood[\"재밌/VA\"])"
   ]
  }
 ]
}