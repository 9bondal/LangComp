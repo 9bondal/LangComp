{
 "metadata": {
  "language_info": {
   "codemirror_mode": {
    "name": "ipython",
    "version": 3
   },
   "file_extension": ".py",
   "mimetype": "text/x-python",
   "name": "python",
   "nbconvert_exporter": "python",
   "pygments_lexer": "ipython3",
   "version": "3.8.5-final"
  },
  "orig_nbformat": 2,
  "kernelspec": {
   "name": "Python 3.8.5 64-bit",
   "display_name": "Python 3.8.5 64-bit",
   "metadata": {
    "interpreter": {
     "hash": "1ee38ef4a5a9feb55287fd749643f13d043cb0a7addaab2a9c224cbe137c0062"
    }
   }
  }
 },
 "nbformat": 4,
 "nbformat_minor": 2,
 "cells": [
  {
   "cell_type": "code",
   "execution_count": 1,
   "metadata": {},
   "outputs": [],
   "source": [
    "from unicodedata import name"
   ]
  },
  {
   "cell_type": "code",
   "execution_count": 18,
   "metadata": {},
   "outputs": [],
   "source": [
    "def ishangul(string):    \n",
    "    return (len(string) > 0) and all(name(ch).startswith(\"HANGUL\") for ch in string)"
   ]
  },
  {
   "cell_type": "code",
   "execution_count": 19,
   "metadata": {},
   "outputs": [
    {
     "output_type": "execute_result",
     "data": {
      "text/plain": "True"
     },
     "metadata": {},
     "execution_count": 19
    }
   ],
   "source": [
    "ishangul(\"가\")"
   ]
  },
  {
   "cell_type": "code",
   "execution_count": 20,
   "metadata": {},
   "outputs": [
    {
     "output_type": "execute_result",
     "data": {
      "text/plain": "False"
     },
     "metadata": {},
     "execution_count": 20
    }
   ],
   "source": [
    "ishangul(\"\")"
   ]
  },
  {
   "cell_type": "code",
   "execution_count": 21,
   "metadata": {},
   "outputs": [],
   "source": [
    "with open(\"latin.txt\", \"w\") as f:\n",
    "    f.writelines(\"a\")"
   ]
  },
  {
   "cell_type": "code",
   "execution_count": 22,
   "metadata": {},
   "outputs": [],
   "source": [
    "with open(\"/Volumes/RAMDisk/hangul.txt\", \"w\") as f:\n",
    "    f.writelines(\"가\")"
   ]
  },
  {
   "cell_type": "code",
   "execution_count": 40,
   "metadata": {
    "tags": []
   },
   "outputs": [],
   "source": [
    "%%timeit\n",
    "with open(\"/Volumes/RAMDisk/99.txt\", \"w\") as f:\n",
    "    f.write(\"\\n\".join(\"\\t\".join(str(i * j) for j in range(1, 10)) for i in range(1, 10)))"
   ]
  },
  {
   "cell_type": "code",
   "execution_count": 33,
   "metadata": {
    "tags": []
   },
   "outputs": [
    {
     "output_type": "stream",
     "name": "stdout",
     "text": "129 µs ± 3.12 µs per loop (mean ± std. dev. of 7 runs, 10000 loops each)\n"
    }
   ],
   "source": [
    "%%timeit\n",
    "with open(\"/Volumes/RAMDisk/99.txt\", \"w\") as f:\n",
    "    for i in range(1, 10):\n",
    "        f.write(\"\\t\".join(str(i * j) for j in range(1, 10)))\n",
    "        f.write(\"\\n\")"
   ]
  },
  {
   "cell_type": "code",
   "execution_count": 43,
   "metadata": {
    "tags": []
   },
   "outputs": [],
   "source": [
    "%%timeit\n",
    "with open(\"/Volumes/RAMDisk/99.txt\") as f:\n",
    "    multab_read = [[int(val) for val in line.split()] for line in f.read().splitlines()]"
   ]
  },
  {
   "cell_type": "code",
   "execution_count": 42,
   "metadata": {
    "tags": []
   },
   "outputs": [
    {
     "output_type": "stream",
     "name": "stdout",
     "text": "65.2 µs ± 712 ns per loop (mean ± std. dev. of 7 runs, 10000 loops each)\n"
    }
   ],
   "source": [
    "%%timeit\n",
    "with open(\"/Volumes/RAMDisk/99.txt\") as f:\n",
    "    multab_read = [list(map(int, (val for val in line.split()))) for line in f.read().splitlines()]"
   ]
  },
  {
   "cell_type": "code",
   "execution_count": 44,
   "metadata": {},
   "outputs": [
    {
     "output_type": "execute_result",
     "data": {
      "text/plain": "[[1, 2, 3, 4, 5, 6, 7, 8, 9],\n [2, 4, 6, 8, 10, 12, 14, 16, 18],\n [3, 6, 9, 12, 15, 18, 21, 24, 27],\n [4, 8, 12, 16, 20, 24, 28, 32, 36],\n [5, 10, 15, 20, 25, 30, 35, 40, 45],\n [6, 12, 18, 24, 30, 36, 42, 48, 54],\n [7, 14, 21, 28, 35, 42, 49, 56, 63],\n [8, 16, 24, 32, 40, 48, 56, 64, 72],\n [9, 18, 27, 36, 45, 54, 63, 72, 81]]"
     },
     "metadata": {},
     "execution_count": 44
    }
   ],
   "source": [
    "multab_read"
   ]
  },
  {
   "cell_type": "code",
   "execution_count": 46,
   "metadata": {},
   "outputs": [],
   "source": [
    "import pickle"
   ]
  },
  {
   "cell_type": "code",
   "execution_count": 47,
   "metadata": {},
   "outputs": [],
   "source": [
    "with open(\"/Volumes/RAMDisk/99.pkl\", \"wb\") as fb:\n",
    "    pickle.dump(multab_read, fb)"
   ]
  },
  {
   "source": [
    "import os\n",
    "os.chdir(\"/Users/jnooree/Downloads\")"
   ],
   "cell_type": "code",
   "metadata": {
    "tags": []
   },
   "execution_count": 65,
   "outputs": [
    {
     "output_type": "stream",
     "name": "stdout",
     "text": "/Users/jnooree/Downloads\n"
    }
   ]
  },
  {
   "cell_type": "code",
   "execution_count": 66,
   "metadata": {},
   "outputs": [
    {
     "output_type": "execute_result",
     "data": {
      "text/plain": "&#39;/Users/jnooree/Downloads&#39;"
     },
     "metadata": {},
     "execution_count": 66
    }
   ],
   "source": [
    "os.getcwd()"
   ]
  }
 ]
}