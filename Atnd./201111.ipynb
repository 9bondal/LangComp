{
 "metadata": {
  "language_info": {
   "codemirror_mode": {
    "name": "ipython",
    "version": 3
   },
   "file_extension": ".py",
   "mimetype": "text/x-python",
   "name": "python",
   "nbconvert_exporter": "python",
   "pygments_lexer": "ipython3",
   "version": "3.8.6-final"
  },
  "orig_nbformat": 2,
  "kernelspec": {
   "name": "Python 3.8.6 64-bit ('langcomp': conda)",
   "display_name": "Python 3.8.6 64-bit ('langcomp': conda)",
   "metadata": {
    "interpreter": {
     "hash": "e4f16c6f872b5ab50f58d7a3251720dc39f2c6f03f1bfcb1b4d6abafd40da30f"
    }
   }
  }
 },
 "nbformat": 4,
 "nbformat_minor": 2,
 "cells": [
  {
   "cell_type": "code",
   "execution_count": 4,
   "metadata": {},
   "outputs": [],
   "source": [
    "from random import seed, shuffle\n",
    "from collections import Counter, defaultdict\n",
    "import numpy as np"
   ]
  },
  {
   "cell_type": "code",
   "execution_count": 2,
   "metadata": {},
   "outputs": [
    {
     "output_type": "execute_result",
     "data": {
      "text/plain": [
       "1"
      ]
     },
     "metadata": {},
     "execution_count": 2
    }
   ],
   "source": [
    "np.argmax([1, 6, 4, 2])"
   ]
  },
  {
   "cell_type": "code",
   "execution_count": 53,
   "metadata": {},
   "outputs": [],
   "source": [
    "with open(\"reviews.txt\") as f:\n",
    "    data = [line.split(\"\\t\") for line in f.read().splitlines()]"
   ]
  },
  {
   "cell_type": "code",
   "execution_count": 10,
   "metadata": {
    "tags": []
   },
   "outputs": [
    {
     "output_type": "stream",
     "name": "stdout",
     "text": [
      "[['1', '오늘/NNG 오후/NNG 2/NR 시/NNM 50/NR 분/NNM 에/JKM 가/VV 아서/ECD 보/VXV 았/EPT 어요/EFN 내용/NNG 은/JX 괜찮/VA 아요/EFN ^^/EMO'], ['1', '원/NNM 드/VV 어/ECS 우먼/NNG 갤가돗/UN 의/JKG 뜻/NNG 하/XSV 지/ECD 않/VXV 은/ETD 매력/NNG 폭발/NNG ./SF 배우/NNG 들/XSN 은/JX 열연/NNG 하/XSV 나/ECE 각본/NNG 이/JKS 따르/VV 아/ECS 주/VXV 지/ECD 못하/VX ㅁ/ETN ./SF 많/VA 은/ETD 이야기/NNG 를/JKO 담/VV 으려니/EFN 다급/XR 해지/VV ㄴ/ETD DC/OL'], ['1', '레/NNG 알/VV ㄹ/ETD 존/NNP 잼/NNG ../SW 진짜/MAG 쩔/VV 었/EPT 음/ETN 기대/NNG 하/XSV 었/EPT 는데/ECD 그/MDT 기대/NNG 보다/JKM 더/MAG 괜찮/VA 은/ETD 영화/NNG 임/NNG !/SF 아/VV 아/ECS 맥/NNG 으로/JKM 또/MAG 보/VV ㄹ/ETD 것/NNB 이/VCP ㅂ니다/EFN !!/SW']]\n"
     ]
    }
   ],
   "source": [
    "print(data[:3])"
   ]
  },
  {
   "cell_type": "code",
   "execution_count": 54,
   "metadata": {},
   "outputs": [],
   "source": [
    "data = [(int(c), doc.split()) for c, doc in data]"
   ]
  },
  {
   "cell_type": "code",
   "execution_count": 55,
   "metadata": {},
   "outputs": [
    {
     "output_type": "stream",
     "name": "stdout",
     "text": [
      "[(1, ['오늘/NNG', '오후/NNG', '2/NR', '시/NNM', '50/NR', '분/NNM', '에/JKM', '가/VV', '아서/ECD', '보/VXV', '았/EPT', '어요/EFN', '내용/NNG', '은/JX', '괜찮/VA', '아요/EFN', '^^/EMO']), (1, ['원/NNM', '드/VV', '어/ECS', '우먼/NNG', '갤가돗/UN', '의/JKG', '뜻/NNG', '하/XSV', '지/ECD', '않/VXV', '은/ETD', '매력/NNG', '폭발/NNG', './SF', '배우/NNG', '들/XSN', '은/JX', '열연/NNG', '하/XSV', '나/ECE', '각본/NNG', '이/JKS', '따르/VV', '아/ECS', '주/VXV', '지/ECD', '못하/VX', 'ㅁ/ETN', './SF', '많/VA', '은/ETD', '이야기/NNG', '를/JKO', '담/VV', '으려니/EFN', '다급/XR', '해지/VV', 'ㄴ/ETD', 'DC/OL']), (1, ['레/NNG', '알/VV', 'ㄹ/ETD', '존/NNP', '잼/NNG', '../SW', '진짜/MAG', '쩔/VV', '었/EPT', '음/ETN', '기대/NNG', '하/XSV', '었/EPT', '는데/ECD', '그/MDT', '기대/NNG', '보다/JKM', '더/MAG', '괜찮/VA', '은/ETD', '영화/NNG', '임/NNG', '!/SF', '아/VV', '아/ECS', '맥/NNG', '으로/JKM', '또/MAG', '보/VV', 'ㄹ/ETD', '것/NNB', '이/VCP', 'ㅂ니다/EFN', '!!/SW'])]\n"
     ]
    }
   ],
   "source": [
    "print(data[:3])"
   ]
  },
  {
   "cell_type": "code",
   "execution_count": 56,
   "metadata": {},
   "outputs": [],
   "source": [
    "seed(208)\n",
    "shuffle(data)"
   ]
  },
  {
   "cell_type": "code",
   "execution_count": 57,
   "metadata": {},
   "outputs": [
    {
     "output_type": "stream",
     "name": "stdout",
     "text": [
      "[(0, ['졸/VV', '려요/ECD', '../SW', '배트/NNG', '맨/NNG', '과/JKM', '슈퍼맨/NNG', '의/JKG', '갑작스럽/VA', 'ㄴ/ETD', '화해/NNG', '??/SW', '뭐/NP', '여/NNG', '??/SW', '루이스/NNG', '는/JX', '또/MAG', '뭐/NP', '여/NNG', '??/SW', '민폐/NNG', '캐릭/NNG', '??/SW', '애/NNG', '니/JC', '다크/UN', '나이트/NNG', '리턴즈/UN', '와/JKM', '두/VV', 'ㅁ/ETN', '스/VV', '데/EFN', '이의/NNG', '짬뽕/NNG', '생뚱맞/VA', '게/ECD', '나타나/VV', '는/ETD', '원/NNM', '드/VV', '어/ECS', '우먼/NNG', '총/MDT', '1/NR', '분/NNM', '미만/NNG', '의/JKG', '출연/NNG', '아쿠아/NNG', '맨/NNG', '과/JKM', '한명/NNG', '더/MAG', '../SW', '기대/NNG', '하/XSV', '지/ECD', '마시/VV', '고/ECE', '보시/VV', '어야/ECD', '하/VV', 'ㅂ니다/EFN']), (1, ['너무너무/MAG', '좋/VA', '아요/EFN', '~~~~~~~~~~/SW']), (0, ['3/NR', '년/NNM', '의/JKG', '기다리/VV', 'ㅁ/ETN', '을/JKO', '이렇게/MAG', '날리/VV', '어/ECS', '먹/VV', '냐/EFQ', '잭/NNG', '슬/VV', '나/ECE', '야/JX', '이놈아/NP', '아아/MAG'])]\n"
     ]
    }
   ],
   "source": [
    "print(data[:3])"
   ]
  },
  {
   "cell_type": "code",
   "execution_count": 58,
   "metadata": {},
   "outputs": [],
   "source": [
    "boundary = int(len(data) * 0.9)\n",
    "train = data[:boundary]\n",
    "test  = data[boundary:]"
   ]
  },
  {
   "cell_type": "code",
   "execution_count": 59,
   "metadata": {},
   "outputs": [],
   "source": [
    "Ndoc = len(train)\n",
    "Nc = Counter(c for c, _ in train)"
   ]
  },
  {
   "cell_type": "code",
   "execution_count": 60,
   "metadata": {},
   "outputs": [
    {
     "output_type": "execute_result",
     "data": {
      "text/plain": [
       "Counter({0: 40, 1: 47})"
      ]
     },
     "metadata": {},
     "execution_count": 60
    }
   ],
   "source": [
    "Nc"
   ]
  },
  {
   "cell_type": "code",
   "execution_count": 61,
   "metadata": {},
   "outputs": [],
   "source": [
    "logprior = {c: np.log(cnt / Ndoc) for c, cnt in Nc.items()}"
   ]
  },
  {
   "cell_type": "code",
   "execution_count": 62,
   "metadata": {},
   "outputs": [
    {
     "output_type": "stream",
     "name": "stdout",
     "text": [
      "{0: -0.7770286645406475, 1: -0.6157605169445252}\n"
     ]
    }
   ],
   "source": [
    "print(logprior)"
   ]
  },
  {
   "cell_type": "code",
   "execution_count": null,
   "metadata": {},
   "outputs": [],
   "source": []
  }
 ]
}