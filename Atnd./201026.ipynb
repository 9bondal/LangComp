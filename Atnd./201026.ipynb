{
 "metadata": {
  "language_info": {
   "codemirror_mode": {
    "name": "ipython",
    "version": 3
   },
   "file_extension": ".py",
   "mimetype": "text/x-python",
   "name": "python",
   "nbconvert_exporter": "python",
   "pygments_lexer": "ipython3",
   "version": "3.8.6-final"
  },
  "orig_nbformat": 2,
  "kernelspec": {
   "name": "Python 3.8.6 64-bit ('langcomp': conda)",
   "display_name": "Python 3.8.6 64-bit ('langcomp': conda)",
   "metadata": {
    "interpreter": {
     "hash": "e4f16c6f872b5ab50f58d7a3251720dc39f2c6f03f1bfcb1b4d6abafd40da30f"
    }
   }
  }
 },
 "nbformat": 4,
 "nbformat_minor": 2,
 "cells": [
  {
   "cell_type": "code",
   "execution_count": 1,
   "metadata": {},
   "outputs": [],
   "source": [
    "def vector_add(v, w):\n",
    "    return [i + j for i, j in zip(v, w)]\n",
    "\n",
    "def vector_subtract(v, w):\n",
    "    return [i - j for i, j in zip(v, w)]\n",
    "\n",
    "def scalar_multiply(c, w):\n",
    "    return [c * i for i in w]"
   ]
  },
  {
   "cell_type": "code",
   "execution_count": 4,
   "metadata": {},
   "outputs": [],
   "source": [
    "def dot(v, w):\n",
    "    return sum(i * j for i, j in zip(v, w))\n",
    "\n",
    "def norm_sq(v):\n",
    "    return dot(v, v);\n",
    "\n",
    "def norm(v):\n",
    "    return pow(norm_sq(v))\n",
    "\n",
    "def distance(p, q):\n",
    "    return norm(vector_subtract(p, q))"
   ]
  },
  {
   "cell_type": "code",
   "execution_count": 5,
   "metadata": {},
   "outputs": [],
   "source": [
    "import numpy as np"
   ]
  },
  {
   "cell_type": "code",
   "execution_count": 7,
   "metadata": {},
   "outputs": [
    {
     "output_type": "execute_result",
     "data": {
      "text/plain": [
       "6"
      ]
     },
     "metadata": {},
     "execution_count": 7
    }
   ],
   "source": [
    "A = np.asarray([[1, 2, 3], [4, 5, 6]], dtype=int)\n",
    "A[1, 2]"
   ]
  },
  {
   "cell_type": "code",
   "execution_count": 9,
   "metadata": {},
   "outputs": [],
   "source": [
    "import matplotlib.pyplot as plt\n",
    "from collections import Counter"
   ]
  },
  {
   "cell_type": "code",
   "execution_count": 16,
   "metadata": {},
   "outputs": [],
   "source": [
    "def mode(x):\n",
    "    counts = Counter(x)\n",
    "    \n",
    "    max_cnt = 0\n",
    "    result = list()\n",
    "    \n",
    "    for val, cnt in counts.items():\n",
    "        if cnt == max_cnt:\n",
    "            result.append(val)\n",
    "        elif cnt > max_cnt:\n",
    "            max_cnt = cnt\n",
    "            result = [val]\n",
    "    \n",
    "    return result, max_cnt"
   ]
  },
  {
   "cell_type": "code",
   "execution_count": 21,
   "metadata": {},
   "outputs": [],
   "source": [
    "def mode(x):\n",
    "    counts = Counter(x).most_common()\n",
    "    return [val for val, cnt in counts if cnt == counts[0][1]]"
   ]
  },
  {
   "cell_type": "code",
   "execution_count": 22,
   "metadata": {},
   "outputs": [
    {
     "output_type": "stream",
     "name": "stdout",
     "text": [
      "3.08 µs ± 52.9 ns per loop (mean ± std. dev. of 7 runs, 100000 loops each)\n"
     ]
    }
   ],
   "source": [
    "%timeit mode([0, 1, 2, 3, 4, 5, 6, 6, 6, 7, 7, 7])"
   ]
  },
  {
   "cell_type": "code",
   "execution_count": 20,
   "metadata": {},
   "outputs": [
    {
     "output_type": "stream",
     "name": "stdout",
     "text": [
      "2.25 µs ± 46.9 ns per loop (mean ± std. dev. of 7 runs, 100000 loops each)\n"
     ]
    }
   ],
   "source": [
    "%timeit mode([0, 1, 2, 3, 4, 5, 6, 6, 6, 7, 7, 7])"
   ]
  }
 ]
}