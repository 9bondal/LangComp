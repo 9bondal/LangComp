{
 "metadata": {
  "language_info": {
   "codemirror_mode": {
    "name": "ipython",
    "version": 3
   },
   "file_extension": ".py",
   "mimetype": "text/x-python",
   "name": "python",
   "nbconvert_exporter": "python",
   "pygments_lexer": "ipython3",
   "version": "3.9.0-final"
  },
  "orig_nbformat": 2,
  "kernelspec": {
   "name": "python3",
   "display_name": "Python 3.9.0 64-bit",
   "metadata": {
    "interpreter": {
     "hash": "e4f16c6f872b5ab50f58d7a3251720dc39f2c6f03f1bfcb1b4d6abafd40da30f"
    }
   }
  }
 },
 "nbformat": 4,
 "nbformat_minor": 2,
 "cells": [
  {
   "cell_type": "code",
   "execution_count": 1,
   "metadata": {},
   "outputs": [],
   "source": [
    "import numpy as np"
   ]
  },
  {
   "cell_type": "code",
   "execution_count": 2,
   "metadata": {},
   "outputs": [],
   "source": [
    "def logistic(x):\n",
    "    return np.exp2(-np.logaddexp2(0, -x))\n",
    "\n",
    "def get_yhat(x, a, b):\n",
    "    return logistic(np.dot(a, x) + b)\n",
    "\n",
    "def LCE(x, y, a, b):\n",
    "    yhat = get_yhat(x, a, b)\n",
    "    return -(y * np.log(yhat) + (1-y) * np.log(1-yhat))\n",
    "\n",
    "def LCE_ai(x, i, y, a, b):\n",
    "    yhat = get_yhat(x, a, b)\n",
    "    return (yhat - y) * x[i]\n",
    "\n",
    "def LCE_b(x, y, a, b):\n",
    "    yhat = get_yhat(x, a, b)\n",
    "    return yhat - y"
   ]
  },
  {
   "cell_type": "code",
   "execution_count": 8,
   "metadata": {},
   "outputs": [],
   "source": [
    "x = np.asarray([3, 2])\n",
    "y = np.asarray(1)"
   ]
  },
  {
   "cell_type": "code",
   "execution_count": 24,
   "metadata": {},
   "outputs": [],
   "source": [
    "thetas = [(0, 0, 0)]\n",
    "lr = 0.01\n"
   ]
  },
  {
   "cell_type": "code",
   "execution_count": 26,
   "metadata": {},
   "outputs": [],
   "source": [
    "for t in range(100):\n",
    "    *a, b = thetas[t]\n",
    "    yhat = get_yhat(x, a, b)\n",
    "    a_next = [ai - lr * LCE_ai(x, i, y, a, b) for i, ai in enumerate(a)]\n",
    "    b_next = b - lr * LCE_b(x, y, a, b)\n",
    "    thetas.append((*a_next, b_next))"
   ]
  },
  {
   "cell_type": "code",
   "execution_count": 27,
   "metadata": {},
   "outputs": [
    {
     "output_type": "execute_result",
     "data": {
      "text/plain": [
       "[(0.6367483956704811, 0.4244989304469874, 0.2122494652234937),\n",
       " (0.6401407282628817, 0.4267604855085878, 0.2133802427542939),\n",
       " (0.6435001855118114, 0.429000123674541, 0.2145000618372705),\n",
       " (0.646827360742421, 0.4312182404949474, 0.2156091202474737),\n",
       " (0.6501228320993084, 0.43341522139953903, 0.21670761069976952),\n",
       " (0.6533871630385576, 0.43559144202570516, 0.21779572101285258),\n",
       " (0.6566209028008242, 0.43774726853388285, 0.21887363426694142),\n",
       " (0.6598245868663004, 0.43988305791086696, 0.21994152895543348),\n",
       " (0.6629987373923476, 0.4419991582615651, 0.22099957913078255),\n",
       " (0.6661438636345499, 0.4440959090897, 0.22204795454485)]"
      ]
     },
     "metadata": {},
     "execution_count": 27
    }
   ],
   "source": [
    "thetas[-10:]"
   ]
  }
 ]
}